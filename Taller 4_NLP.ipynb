{
 "cells": [
  {
   "cell_type": "code",
   "execution_count": 34,
   "metadata": {},
   "outputs": [],
   "source": [
    "# Procesamiento de Lenguage Natural\n",
    "##Taller #4: Feature Engineering "
   ]
  },
  {
   "cell_type": "code",
   "execution_count": 35,
   "metadata": {},
   "outputs": [],
   "source": [
    "import re\n",
    "import pandas as pd\n",
    "\n",
    "from nltk.corpus import stopwords\n",
    "stopwords_sp = stopwords.words('spanish')\n",
    "\n",
    "from sklearn.feature_extraction.text import CountVectorizer"
   ]
  },
  {
   "cell_type": "code",
   "execution_count": 36,
   "metadata": {},
   "outputs": [],
   "source": [
    "#Punto 1: Pre-Procesamiento¶\n",
    "#1.1 Leer el archivo dialogos.csv usando pandas\n"
   ]
  },
  {
   "cell_type": "code",
   "execution_count": 37,
   "metadata": {},
   "outputs": [
    {
     "data": {
      "text/html": [
       "<div>\n",
       "<style scoped>\n",
       "    .dataframe tbody tr th:only-of-type {\n",
       "        vertical-align: middle;\n",
       "    }\n",
       "\n",
       "    .dataframe tbody tr th {\n",
       "        vertical-align: top;\n",
       "    }\n",
       "\n",
       "    .dataframe thead th {\n",
       "        text-align: right;\n",
       "    }\n",
       "</style>\n",
       "<table border=\"1\" class=\"dataframe\">\n",
       "  <thead>\n",
       "    <tr style=\"text-align: right;\">\n",
       "      <th></th>\n",
       "      <th>Locución</th>\n",
       "    </tr>\n",
       "  </thead>\n",
       "  <tbody>\n",
       "    <tr>\n",
       "      <th>0</th>\n",
       "      <td>Francamente no</td>\n",
       "    </tr>\n",
       "    <tr>\n",
       "      <th>1</th>\n",
       "      <td>Lo del canadiense. Por favor, como que vosotro...</td>\n",
       "    </tr>\n",
       "    <tr>\n",
       "      <th>2</th>\n",
       "      <td>Tienes razón. A lo mejor así te liberas de tu ...</td>\n",
       "    </tr>\n",
       "    <tr>\n",
       "      <th>3</th>\n",
       "      <td>Pues, tú sabrás</td>\n",
       "    </tr>\n",
       "    <tr>\n",
       "      <th>4</th>\n",
       "      <td>Para mí que fue Krieger</td>\n",
       "    </tr>\n",
       "    <tr>\n",
       "      <th>...</th>\n",
       "      <td>...</td>\n",
       "    </tr>\n",
       "    <tr>\n",
       "      <th>954</th>\n",
       "      <td>Yo qué sé, digo yo qué será</td>\n",
       "    </tr>\n",
       "    <tr>\n",
       "      <th>955</th>\n",
       "      <td>Lo han entendido mal. Las joyas que venden en ...</td>\n",
       "    </tr>\n",
       "    <tr>\n",
       "      <th>956</th>\n",
       "      <td>Oooo... Me llamo Vivian</td>\n",
       "    </tr>\n",
       "    <tr>\n",
       "      <th>957</th>\n",
       "      <td>¿De dónde? ¿Del coño de tu madre?</td>\n",
       "    </tr>\n",
       "    <tr>\n",
       "      <th>958</th>\n",
       "      <td>Ah, sí esto podría funcionar</td>\n",
       "    </tr>\n",
       "  </tbody>\n",
       "</table>\n",
       "<p>959 rows × 1 columns</p>\n",
       "</div>"
      ],
      "text/plain": [
       "                                              Locución\n",
       "0                                       Francamente no\n",
       "1    Lo del canadiense. Por favor, como que vosotro...\n",
       "2    Tienes razón. A lo mejor así te liberas de tu ...\n",
       "3                                      Pues, tú sabrás\n",
       "4                              Para mí que fue Krieger\n",
       "..                                                 ...\n",
       "954                        Yo qué sé, digo yo qué será\n",
       "955  Lo han entendido mal. Las joyas que venden en ...\n",
       "956                            Oooo... Me llamo Vivian\n",
       "957                  ¿De dónde? ¿Del coño de tu madre?\n",
       "958                       Ah, sí esto podría funcionar\n",
       "\n",
       "[959 rows x 1 columns]"
      ]
     },
     "execution_count": 37,
     "metadata": {},
     "output_type": "execute_result"
    }
   ],
   "source": [
    "df = pd.read_csv(\"archivos/dialogos.csv\") ##abre el archivo con la función pd.read_csv y se guarda en el dataframe con nombre df\n",
    "#df.head() ##Muestra los primeros 5 registros del dataframe\n",
    "#df.tail() ##Muestra los ultimos 5 registros del dataframe \n",
    "df#muestra el dataframe"
   ]
  },
  {
   "cell_type": "code",
   "execution_count": 38,
   "metadata": {},
   "outputs": [],
   "source": [
    "#1.2Crear una nueva columna con el texto en minúscula, sin caracteres especiales ni números y sin palabras vacias"
   ]
  },
  {
   "cell_type": "code",
   "execution_count": 39,
   "metadata": {},
   "outputs": [],
   "source": [
    "#df.Locución.str.cat(sep=\" \")"
   ]
  },
  {
   "cell_type": "code",
   "execution_count": 41,
   "metadata": {},
   "outputs": [
    {
     "data": {
      "text/html": [
       "<div>\n",
       "<style scoped>\n",
       "    .dataframe tbody tr th:only-of-type {\n",
       "        vertical-align: middle;\n",
       "    }\n",
       "\n",
       "    .dataframe tbody tr th {\n",
       "        vertical-align: top;\n",
       "    }\n",
       "\n",
       "    .dataframe thead th {\n",
       "        text-align: right;\n",
       "    }\n",
       "</style>\n",
       "<table border=\"1\" class=\"dataframe\">\n",
       "  <thead>\n",
       "    <tr style=\"text-align: right;\">\n",
       "      <th></th>\n",
       "      <th>Locución</th>\n",
       "      <th>preprocesado</th>\n",
       "    </tr>\n",
       "  </thead>\n",
       "  <tbody>\n",
       "    <tr>\n",
       "      <th>0</th>\n",
       "      <td>Francamente no</td>\n",
       "      <td>francamente</td>\n",
       "    </tr>\n",
       "    <tr>\n",
       "      <th>1</th>\n",
       "      <td>Lo del canadiense. Por favor, como que vosotro...</td>\n",
       "      <td>canadiense favor tiraríais allí si pudieseis</td>\n",
       "    </tr>\n",
       "    <tr>\n",
       "      <th>2</th>\n",
       "      <td>Tienes razón. A lo mejor así te liberas de tu ...</td>\n",
       "      <td>razón mejor así liberas energía nagativa</td>\n",
       "    </tr>\n",
       "    <tr>\n",
       "      <th>3</th>\n",
       "      <td>Pues, tú sabrás</td>\n",
       "      <td>pues sabrás</td>\n",
       "    </tr>\n",
       "    <tr>\n",
       "      <th>4</th>\n",
       "      <td>Para mí que fue Krieger</td>\n",
       "      <td>krieger</td>\n",
       "    </tr>\n",
       "    <tr>\n",
       "      <th>...</th>\n",
       "      <td>...</td>\n",
       "      <td>...</td>\n",
       "    </tr>\n",
       "    <tr>\n",
       "      <th>954</th>\n",
       "      <td>Yo qué sé, digo yo qué será</td>\n",
       "      <td>sé digo</td>\n",
       "    </tr>\n",
       "    <tr>\n",
       "      <th>955</th>\n",
       "      <td>Lo han entendido mal. Las joyas que venden en ...</td>\n",
       "      <td>entendido mal joyas venden canales siquiera in...</td>\n",
       "    </tr>\n",
       "    <tr>\n",
       "      <th>956</th>\n",
       "      <td>Oooo... Me llamo Vivian</td>\n",
       "      <td>oooo llamo vivian</td>\n",
       "    </tr>\n",
       "    <tr>\n",
       "      <th>957</th>\n",
       "      <td>¿De dónde? ¿Del coño de tu madre?</td>\n",
       "      <td>dónde coño madre</td>\n",
       "    </tr>\n",
       "    <tr>\n",
       "      <th>958</th>\n",
       "      <td>Ah, sí esto podría funcionar</td>\n",
       "      <td>ah podría funcionar</td>\n",
       "    </tr>\n",
       "  </tbody>\n",
       "</table>\n",
       "<p>959 rows × 2 columns</p>\n",
       "</div>"
      ],
      "text/plain": [
       "                                              Locución  \\\n",
       "0                                       Francamente no   \n",
       "1    Lo del canadiense. Por favor, como que vosotro...   \n",
       "2    Tienes razón. A lo mejor así te liberas de tu ...   \n",
       "3                                      Pues, tú sabrás   \n",
       "4                              Para mí que fue Krieger   \n",
       "..                                                 ...   \n",
       "954                        Yo qué sé, digo yo qué será   \n",
       "955  Lo han entendido mal. Las joyas que venden en ...   \n",
       "956                            Oooo... Me llamo Vivian   \n",
       "957                  ¿De dónde? ¿Del coño de tu madre?   \n",
       "958                       Ah, sí esto podría funcionar   \n",
       "\n",
       "                                          preprocesado  \n",
       "0                                          francamente  \n",
       "1         canadiense favor tiraríais allí si pudieseis  \n",
       "2             razón mejor así liberas energía nagativa  \n",
       "3                                          pues sabrás  \n",
       "4                                              krieger  \n",
       "..                                                 ...  \n",
       "954                                            sé digo  \n",
       "955  entendido mal joyas venden canales siquiera in...  \n",
       "956                                  oooo llamo vivian  \n",
       "957                                   dónde coño madre  \n",
       "958                                ah podría funcionar  \n",
       "\n",
       "[959 rows x 2 columns]"
      ]
     },
     "execution_count": 41,
     "metadata": {},
     "output_type": "execute_result"
    }
   ],
   "source": [
    "TK=df['Locución']\n",
    "df=df.assign(preprocesado=TK.values)\n",
    "#df['preprocesado'] = df['preprocesado'].str.lower() #convertir a minuscula la nueva columna\n",
    "\n",
    "df['preprocesado'] = df.apply(lambda row: \" \".join([word for word in re.sub(r\"[\\W\\d_]+\", \" \", row.Locución.lower()).split() if word not in stopwords_sp]), axis = 1) \n",
    "df"
   ]
  },
  {
   "cell_type": "code",
   "execution_count": null,
   "metadata": {},
   "outputs": [],
   "source": [
    "# Punto 2: Representación vectorial\n",
    "#Crear una bolsa de palabras (BoW) del corpus usando la columna pre-procesada\n"
   ]
  },
  {
   "cell_type": "code",
   "execution_count": 47,
   "metadata": {},
   "outputs": [
    {
     "name": "stdout",
     "output_type": "stream",
     "text": [
      "[('podido', 1), ('realista', 2), ('decirme', 3), ('resolverlo', 4), ('joventud', 5), ('north', 6), ('diarrea', 7), ('decirle', 8), ('llamarlos', 9), ('excesivo', 10), ('arrancó', 11), ('pongas', 12), ('llamara', 13), ('pensar', 14), ('arma', 15), ('maldíta', 16), ('alquimistas', 17), ('paralelo', 18), ('violadores', 19), ('salchicha', 20), ('duro', 21), ('legal', 22), ('portado', 23), ('europa', 24), ('practicar', 25), ('saludarás', 26), ('vendría', 27), ('feas', 28), ('papás', 29), ('sonreirémos', 30), ('diez', 31), ('gregors', 32), ('llevaba', 33), ('mejorarlo', 34), ('resuelven', 35), ('horneando', 36), ('menudo', 37), ('homofóbico', 38), ('lucen', 39), ('tobillos', 40), ('tóma', 41), ('voy', 42), ('ofrecerte', 43), ('hospitalidad', 44), ('papá', 45), ('decías', 46), ('nevera', 47), ('cierra', 48), ('kenny', 49), ('lastimen', 50), ('minutos', 51), ('golpe', 52), ('jóven', 53), ('doy', 54), ('resumiendo', 55), ('crezcas', 56), ('club', 57), ('volvió', 58), ('deseas', 59), ('cuestan', 60), ('da', 61), ('agentes', 62), ('turquesa', 63), ('robado', 64), ('supuestos', 65), ('espermas', 66), ('camisa', 67), ('ganan', 68), ('actuante', 69), ('entrega', 70), ('bando', 71), ('iba', 72), ('nuevos', 73), ('prometo', 74), ('genios', 75), ('pensé', 76), ('hmm', 77), ('hablando', 78), ('masticaras', 79), ('aprendimos', 80), ('intentan', 81), ('sólidas', 82), ('esmeralda', 83), ('varios', 84), ('terríble', 85), ('lógico', 86), ('ganas', 87), ('habernos', 88), ('afortunados', 89), ('llamar', 90), ('odia', 91), ('básicamente', 92), ('excusas', 93), ('semejante', 94), ('eleve', 95), ('cuántas', 96), ('laboralista', 97), ('liberas', 98), ('igual', 99), ('harás', 100), ('tocado', 101), ('fin', 102), ('parecerse', 103), ('llámame', 104), ('conversación', 105), ('shelly', 106), ('suelo', 107), ('oh', 108), ('sabes', 109), ('inteligencia', 110), ('acceder', 111), ('canales', 112), ('indicado', 113), ('cuál', 114), ('enojemos', 115), ('mientras', 116), ('contarle', 117), ('canguros', 118), ('carajo', 119), ('mata', 120), ('safiros', 121), ('aha', 122), ('laboral', 123), ('triste', 124), ('gas', 125), ('alzheimer', 126), ('darme', 127), ('procura', 128), ('cambiará', 129), ('uniformes', 130), ('frecuente', 131), ('deporte', 132), ('malpinas', 133), ('gustará', 134), ('todavía', 135), ('invito', 136), ('ayúdame', 137), ('voz', 138), ('negó', 139), ('cuatrao', 140), ('relleníta', 141), ('padres', 142), ('creerlo', 143), ('genéticas', 144), ('crece', 145), ('oferta', 146), ('tarde', 147), ('oídos', 148), ('gastar', 149), ('pidiendo', 150), ('sacaste', 151), ('miro', 152), ('libros', 153), ('ay', 154), ('veintiquatro', 155), ('lleguen', 156), ('doritos', 157), ('hablemos', 158), ('azotea', 159), ('oficial', 160), ('fundió', 161), ('presionar', 162), ('cheryl', 163), ('quedaría', 164), ('importante', 165), ('mansiones', 166), ('daba', 167), ('matemática', 168), ('peligroso', 169), ('sueño', 170), ('miel', 171), ('tal', 172), ('salto', 173), ('vendrá', 174), ('mañana', 175), ('operación', 176), ('señal', 177), ('rimó', 178), ('siglos', 179), ('seguidores', 180), ('llamé', 181), ('número', 182), ('asiáticas', 183), ('falsos', 184), ('garage', 185), ('conseguir', 186), ('licor', 187), ('esperamos', 188), ('jodas', 189), ('estudian', 190), ('duelen', 191), ('precio', 192), ('corbatíta', 193), ('parte', 194), ('encragaré', 195), ('cuarto', 196), ('comprará', 197), ('funcionará', 198), ('tetfield', 199), ('disparar', 200), ('proveyó', 201), ('canadiense', 202), ('sagrado', 203), ('monstruo', 204), ('coge', 205), ('pasta', 206), ('llaves', 207), ('criar', 208), ('entendido', 209), ('siguiera', 210), ('ridículo', 211), ('significa', 212), ('cantante', 213), ('rusos', 214), ('llévanos', 215), ('beber', 216), ('convertir', 217), ('aretes', 218), ('escocés', 219), ('cabrones', 220), ('estabáis', 221), ('materna', 222), ('digan', 223), ('crees', 224), ('detenernos', 225), ('creciente', 226), ('demos', 227), ('rey', 228), ('amigos', 229), ('bebemos', 230), ('voluntad', 231), ('conmocionado', 232), ('cuatorce', 233), ('exceso', 234), ('haz', 235), ('puerta', 236), ('competitividad', 237), ('van', 238), ('convertirlo', 239), ('comisionato', 240), ('muchísimas', 241), ('gran', 242), ('enfermedades', 243), ('corten', 244), ('rico', 245), ('intentado', 246), ('ve', 247), ('llamaría', 248), ('gruño', 249), ('vender', 250), ('esposa', 251), ('boca', 252), ('broma', 253), ('jordana', 254), ('stern', 255), ('tome', 256), ('creemos', 257), ('retina', 258), ('concentrémonos', 259), ('siempre', 260), ('puede', 261), ('globo', 262), ('cansamos', 263), ('llamativo', 264), ('hombre', 265), ('biónica', 266), ('ofrecer', 267), ('tipi', 268), ('proteger', 269), ('wow', 270), ('cría', 271), ('caballeros', 272), ('strip', 273), ('ofrecerías', 274), ('bebida', 275), ('resto', 276), ('abastecido', 277), ('hico', 278), ('cartel', 279), ('detrás', 280), ('ultramoderna', 281), ('interrupciones', 282), ('intentar', 283), ('salirse', 284), ('haber', 285), ('venden', 286), ('lleno', 287), ('persona', 288), ('corbatas', 289), ('sucios', 290), ('madre', 291), ('conchabados', 292), ('daño', 293), ('ochenta', 294), ('enmendarlo', 295), ('podemos', 296), ('mentía', 297), ('matas', 298), ('apoyo', 299), ('paso', 300), ('intermediarios', 301), ('cabo', 302), ('bienvenidos', 303), ('aprovechar', 304), ('frivolidades', 305), ('vuelta', 306), ('muchachos', 307), ('llamó', 308), ('despistar', 309), ('clavado', 310), ('culpa', 311), ('jugadores', 312), ('quítate', 313), ('llegar', 314), ('puntos', 315), ('mediante', 316), ('intenta', 317), ('volveré', 318), ('pagué', 319), ('trabaja', 320), ('guardar', 321), ('cago', 322), ('tecnología', 323), ('pasó', 324), ('alguna', 325), ('definitivamente', 326), ('dice', 327), ('acabas', 328), ('aquel', 329), ('creo', 330), ('interior', 331), ('china', 332), ('guardarlo', 333), ('caray', 334), ('pan', 335), ('efectivo', 336), ('hablar', 337), ('abracense', 338), ('ahora', 339), ('secas', 340), ('quiere', 341), ('tercera', 342), ('existen', 343), ('falta', 344), ('usa', 345), ('super', 346), ('sube', 347), ('peligrosas', 348), ('cien', 349), ('mes', 350), ('ninguno', 351), ('sterling', 352), ('poker', 353), ('tan', 354), ('hai', 355), ('mmm', 356), ('majo', 357), ('pendiente', 358), ('partida', 359), ('entrando', 360), ('aquí', 361), ('verbo', 362), ('mil', 363), ('cerrado', 364), ('escuela', 365), ('señora', 366), ('pegas', 367), ('eráis', 368), ('mesas', 369), ('pasarse', 370), ('valiosas', 371), ('inaugural', 372), ('río', 373), ('ventana', 374), ('nacional', 375), ('eric', 376), ('antimatéria', 377), ('mandaste', 378), ('visto', 379), ('salvo', 380), ('cyril', 381), ('usted', 382), ('cremoso', 383), ('quiénes', 384), ('deje', 385), ('acorazada', 386), ('mierda', 387), ('acuerdo', 388), ('pondría', 389), ('corriendo', 390), ('azúcar', 391), ('solo', 392), ('perfil', 393), ('medio', 394), ('permanente', 395), ('aunque', 396), ('disculpas', 397), ('á', 398), ('tíos', 399), ('divertiste', 400), ('quieren', 401), ('sarcasmo', 402), ('excusado', 403), ('decidíamos', 404), ('mueras', 405), ('necesitaré', 406), ('datos', 407), ('aubuelo', 408), ('prácticamente', 409), ('calrissiano', 410), ('geniales', 411), ('correcto', 412), ('intentaron', 413), ('cosa', 414), ('irme', 415), ('fresco', 416), ('buenos', 417), ('quedaríamos', 418), ('comprador', 419), ('balas', 420), ('sabías', 421), ('podría', 422), ('amabilidad', 423), ('saquen', 424), ('burrito', 425), ('mejoró', 426), ('pensando', 427), ('líamos', 428), ('directamente', 429), ('molar', 430), ('cabras', 431), ('generó', 432), ('consiento', 433), ('tiro', 434), ('adiós', 435), ('malin', 436), ('jerez', 437), ('maldíto', 438), ('wohoo', 439), ('ganador', 440), ('protesto', 441), ('ido', 442), ('misma', 443), ('claro', 444), ('hacerte', 445), ('g', 446), ('stillers', 447), ('leches', 448), ('batir', 449), ('multiracial', 450), ('ocultarlo', 451), ('escoria', 452), ('limón', 453), ('quitado', 454), ('país', 455), ('marchando', 456), ('bellici', 457), ('puñalarme', 458), ('bikini', 459), ('cuanto', 460), ('guapa', 461), ('espaldas', 462), ('browns', 463), ('keith', 464), ('rancasteis', 465), ('sumamos', 466), ('fácil', 467), ('funciona', 468), ('sangre', 469), ('deben', 470), ('crédito', 471), ('vivian', 472), ('gorda', 473), ('botellitas', 474), ('finde', 475), ('sabrán', 476), ('ocurrir', 477), ('lograr', 478), ('doctor', 479), ('sacará', 480), ('litro', 481), ('sepa', 482), ('francesa', 483), ('cinco', 484), ('flecha', 485), ('preparamos', 486), ('par', 487), ('después', 488), ('papel', 489), ('genitalios', 490), ('veamos', 491), ('excelente', 492), ('gritan', 493), ('increíble', 494), ('lecciones', 495), ('comprendemos', 496), ('ganando', 497), ('semana', 498), ('molesta', 499), ('mayor', 500), ('especiales', 501), ('cia', 502), ('aliado', 503), ('favor', 504), ('buena', 505), ('quería', 506), ('exagera', 507), ('sistema', 508), ('disfrutando', 509), ('ocurren', 510), ('harrys', 511), ('misión', 512), ('imbéciles', 513), ('alegre', 514), ('sarcásticos', 515), ('regalo', 516), ('olvídense', 517), ('prueba', 518), ('significaba', 519), ('sufriendo', 520), ('amenazar', 521), ('ah', 522), ('dejarme', 523), ('contárselo', 524), ('resulta', 525), ('debe', 526), ('plan', 527), ('juro', 528), ('positivo', 529), ('pueden', 530), ('avergonzarse', 531), ('capas', 532), ('nuevo', 533), ('darle', 534), ('pelo', 535), ('improbable', 536), ('encantará', 537), ('ésa', 538), ('memoria', 539), ('televisión', 540), ('buscarán', 541), ('luego', 542), ('confidencial', 543), ('suelen', 544), ('aluminio', 545), ('ocupado', 546), ('dícelo', 547), ('craqueoso', 548), ('problema', 549), ('funcionar', 550), ('escuche', 551), ('cierrate', 552), ('estó', 553), ('mega', 554), ('usarla', 555), ('mujeres', 556), ('hacemos', 557), ('niños', 558), ('fundir', 559), ('calla', 560), ('isis', 561), ('espía', 562), ('florecente', 563), ('laboratorio', 564), ('consultemos', 565), ('necesites', 566), ('cabecíta', 567), ('anuales', 568), ('nombre', 569), ('amamos', 570), ('cochecíto', 571), ('maní', 572), ('beba', 573), ('bebés', 574), ('perdona', 575), ('corbata', 576), ('mercado', 577), ('aspirante', 578), ('fundimos', 579), ('autorizada', 580), ('pobre', 581), ('principal', 582), ('preocupados', 583), ('única', 584), ('durmiendo', 585), ('disfrutar', 586), ('olvidémonos', 587), ('esperma', 588), ('lamentamos', 589), ('maravilloso', 590), ('leche', 591), ('interesante', 592), ('investigación', 593), ('dispararé', 594), ('cambiar', 595), ('totalmente', 596), ('llevas', 597), ('pisos', 598), ('punto', 599), ('cuándo', 600), ('falsa', 601), ('centro', 602), ('vuélvete', 603), ('dijiste', 604), ('fuertemente', 605), ('hablaste', 606), ('recuerdo', 607), ('actos', 608), ('dispares', 609), ('mamada', 610), ('realidad', 611), ('miren', 612), ('nieto', 613), ('militar', 614), ('ninguna', 615), ('voto', 616), ('abuelo', 617), ('igualíto', 618), ('apta', 619), ('pego', 620), ('cruzado', 621), ('caja', 622), ('acompañar', 623), ('ascani', 624), ('jubilación', 625), ('decirles', 626), ('viviría', 627), ('mente', 628), ('cánada', 629), ('loco', 630), ('apunta', 631), ('guardaré', 632), ('lleves', 633), ('jugo', 634), ('abogada', 635), ('tenerla', 636), ('féliz', 637), ('quizá', 638), ('deportiva', 639), ('dobles', 640), ('seguro', 641), ('niño', 642), ('bueno', 643), ('salid', 644), ('necesitas', 645), ('malo', 646), ('fotos', 647), ('fascinante', 648), ('caña', 649), ('acabo', 650), ('improvisaciones', 651), ('saluda', 652), ('confiar', 653), ('conmigo', 654), ('méxicano', 655), ('ventas', 656), ('armería', 657), ('última', 658), ('compasión', 659), ('imigración', 660), ('saca', 661), ('cientos', 662), ('delantera', 663), ('escansará', 664), ('confianza', 665), ('cena', 666), ('joderla', 667), ('salchichas', 668), ('cristi', 669), ('empezar', 670), ('oy', 671), ('seguimos', 672), ('robot', 673), ('beberé', 674), ('ponerme', 675), ('quién', 676), ('argentina', 677), ('culebrón', 678), ('quienquiera', 679), ('cenar', 680), ('calvos', 681), ('saben', 682), ('mexicanos', 683), ('ray', 684), ('dejarle', 685), ('felicidad', 686), ('k', 687), ('demasiado', 688), ('estrella', 689), ('hablamos', 690), ('venir', 691), ('verás', 692), ('creía', 693), ('dejarlo', 694), ('acuerdas', 695), ('infierno', 696), ('venga', 697), ('escuelas', 698), ('gusta', 699), ('cartman', 700), ('encantan', 701), ('equipo', 702), ('riders', 703), ('asustado', 704), ('menos', 705), ('tequila', 706), ('sigues', 707), ('pidió', 708), ('simulacro', 709), ('faux', 710), ('dudo', 711), ('hagámoslo', 712), ('sentaré', 713), ('veces', 714), ('aceptarlo', 715), ('negocio', 716), ('arrancaste', 717), ('infromación', 718), ('ofrezco', 719), ('joyas', 720), ('hacernos', 721), ('racista', 722), ('hija', 723), ('sostenes', 724), ('felicitaciones', 725), ('aviso', 726), ('vendemos', 727), ('alumnos', 728), ('supergay', 729), ('líderes', 730), ('oblígame', 731), ('equivocado', 732), ('pago', 733), ('tapadera', 734), ('aceptamos', 735), ('sujetes', 736), ('mitade', 737), ('buscar', 738), ('encontrarán', 739), ('desempeño', 740), ('peletero', 741), ('j', 742), ('compasivo', 743), ('grámos', 744), ('familia', 745), ('ocurrió', 746), ('compasivos', 747), ('comer', 748), ('imaginario', 749), ('busco', 750), ('muchas', 751), ('derrotar', 752), ('quidaras', 753), ('hablo', 754), ('perfecto', 755), ('atrapa', 756), ('llamemos', 757), ('refranes', 758), ('colocar', 759), ('transferencia', 760), ('amaba', 761), ('virgen', 762), ('auto', 763), ('country', 764), ('pequeña', 765), ('recuerdas', 766), ('trajera', 767), ('puse', 768), ('gente', 769), ('ofensiva', 770), ('varias', 771), ('india', 772), ('deberíamos', 773), ('recibe', 774), ('tranquilo', 775), ('empanada', 776), ('gustan', 777), ('hagamos', 778), ('cuenta', 779), ('batido', 780), ('hola', 781), ('enfestar', 782), ('tiempo', 783), ('sorpresas', 784), ('véte', 785), ('soluciona', 786), ('stines', 787), ('hacerlo', 788), ('primero', 789), ('veía', 790), ('reformar', 791), ('encargados', 792), ('llamas', 793), ('intenten', 794), ('amor', 795), ('abrazas', 796), ('vase', 797), ('esperad', 798), ('latino', 799), ('bolsa', 800), ('bajos', 801), ('chúpamela', 802), ('vieja', 803), ('parado', 804), ('metería', 805), ('aprovechen', 806), ('cambio', 807), ('queda', 808), ('preocupa', 809), ('puedo', 810), ('nagativa', 811), ('gustaría', 812), ('lado', 813), ('uah', 814), ('pusiste', 815), ('poner', 816), ('cara', 817), ('niveles', 818), ('señor', 819), ('conmociones', 820), ('sábado', 821), ('servicio', 822), ('lleva', 823), ('señala', 824), ('romperé', 825), ('placer', 826), ('continúe', 827), ('tipo', 828), ('noche', 829), ('podía', 830), ('sino', 831), ('ibas', 832), ('refiere', 833), ('palabra', 834), ('compasíbles', 835), ('acaso', 836), ('tomándose', 837), ('guardas', 838), ('esclavizados', 839), ('esprema', 840), ('ten', 841), ('cállaos', 842), ('hago', 843), ('ofertas', 844), ('estudiando', 845), ('último', 846), ('hagas', 847), ('cosas', 848), ('esqueleto', 849), ('estudo', 850), ('conocéis', 851), ('cuadras', 852), ('ex', 853), ('abrazos', 854), ('visita', 855), ('billones', 856), ('quedaba', 857), ('llevando', 858), ('tirado', 859), ('ciber', 860), ('meta', 861), ('tiros', 862), ('llevaría', 863), ('bebas', 864), ('rayos', 865), ('hermana', 866), ('norths', 867), ('personas', 868), ('llevamos', 869), ('entrenador', 870), ('transmisión', 871), ('dispararme', 872), ('ayudarme', 873), ('pedirnos', 874), ('lando', 875), ('sácale', 876), ('mismo', 877), ('paties', 878), ('domingo', 879), ('dicho', 880), ('determinen', 881), ('alguien', 882), ('dentro', 883), ('perdido', 884), ('diré', 885), ('puedes', 886), ('avanzan', 887), ('jesús', 888), ('abrazar', 889), ('hablarémos', 890), ('dando', 891), ('enrique', 892), ('llevara', 893), ('queremos', 894), ('primer', 895), ('sinceridad', 896), ('queríamos', 897), ('limusina', 898), ('aburato', 899), ('token', 900), ('hable', 901), ('movimiento', 902), ('cuánto', 903), ('torpe', 904), ('jackson', 905), ('marca', 906), ('hacéis', 907), ('unas', 908), ('disparan', 909), ('acabado', 910), ('oigo', 911), ('asustó', 912), ('callas', 913), ('burlarse', 914), ('dar', 915), ('franco', 916), ('toda', 917), ('propulsor', 918), ('cincuenta', 919), ('slater', 920), ('ciertamente', 921), ('existe', 922), ('cabra', 923), ('decide', 924), ('llevaré', 925), ('vacía', 926), ('tomen', 927), ('impresionar', 928), ('secuencia', 929), ('estableció', 930), ('enfermedad', 931), ('lamernos', 932), ('relativo', 933), ('woodly', 934), ('llames', 935), ('olvidarme', 936), ('pregunta', 937), ('dado', 938), ('despierto', 939), ('debo', 940), ('escolares', 941), ('felices', 942), ('informático', 943), ('llega', 944), ('llave', 945), ('debemos', 946), ('algúno', 947), ('oooo', 948), ('sopearte', 949), ('bordado', 950), ('balón', 951), ('sabe', 952), ('tí', 953), ('aptece', 954), ('come', 955), ('carambola', 956), ('pocos', 957), ('provoca', 958), ('jugando', 959), ('cierto', 960), ('sólidos', 961), ('matar', 962), ('parecemos', 963), ('quise', 964), ('boom', 965), ('verdadero', 966), ('porcuro', 967), ('espalda', 968), ('dinero', 969), ('campo', 970), ('sede', 971), ('sentimientos', 972), ('moda', 973), ('jugadas', 974), ('récien', 975), ('excusa', 976), ('libres', 977), ('salgan', 978), ('fastidies', 979), ('m', 980), ('crucial', 981), ('tontería', 982), ('vestidor', 983), ('experiencia', 984), ('mexicano', 985), ('acompaña', 986), ('tremendo', 987), ('burdel', 988), ('jugar', 989), ('juega', 990), ('ponedlas', 991), ('dan', 992), ('callados', 993), ('escaleras', 994), ('foto', 995), ('necesita', 996), ('comprar', 997), ('key', 998), ('importa', 999), ('día', 1000), ('asiática', 1001), ('mirándolo', 1002), ('escupieras', 1003), ('mike', 1004), ('rebalsa', 1005), ('vestidos', 1006), ('grupo', 1007), ('patadas', 1008), ('narices', 1009), ('familiares', 1010), ('caballero', 1011), ('hizo', 1012), ('relajar', 1013), ('cráneo', 1014), ('atreven', 1015), ('sincero', 1016), ('jefe', 1017), ('cielos', 1018), ('amable', 1019), ('humanidad', 1020), ('grande', 1021), ('kane', 1022), ('preguntas', 1023), ('regresando', 1024), ('golpeen', 1025), ('perro', 1026), ('emocionante', 1027), ('subid', 1028), ('atleta', 1029), ('bendíto', 1030), ('nuevas', 1031), ('minuto', 1032), ('hace', 1033), ('haría', 1034), ('alta', 1035), ('goodell', 1036), ('aseguro', 1037), ('nueve', 1038), ('crear', 1039), ('golpes', 1040), ('di', 1041), ('viejo', 1042), ('compasiva', 1043), ('viene', 1044), ('pico', 1045), ('tener', 1046), ('oiga', 1047), ('lindo', 1048), ('química', 1049), ('krieger', 1050), ('culpable', 1051), ('juego', 1052), ('jhonsson', 1053), ('tomemos', 1054), ('supongo', 1055), ('robotizado', 1056), ('bebe', 1057), ('puto', 1058), ('piso', 1059), ('entonces', 1060), ('licencia', 1061), ('mai', 1062), ('sacarlo', 1063), ('prometer', 1064), ('practicamos', 1065), ('pesadilla', 1066), ('cinquenta', 1067), ('encantaría', 1068), ('vez', 1069), ('aplauso', 1070), ('si', 1071), ('pam', 1072), ('humo', 1073), ('guardadas', 1074), ('capitán', 1075), ('pareczo', 1076), ('amo', 1077), ('puñalara', 1078), ('cerveza', 1079), ('veinte', 1080), ('intente', 1081), ('quilates', 1082), ('amables', 1083), ('ojos', 1084), ('mentirosa', 1085), ('viejos', 1086), ('brazos', 1087), ('juntos', 1088), ('puñado', 1089), ('confunden', 1090), ('miles', 1091), ('fiarme', 1092), ('parezcas', 1093), ('roger', 1094), ('verdadera', 1095), ('término', 1096), ('agradecerte', 1097), ('malísima', 1098), ('lugar', 1099), ('recordadme', 1100), ('skynet', 1101), ('despechada', 1102), ('momento', 1103), ('armas', 1104), ('pudiera', 1105), ('hecho', 1106), ('nunca', 1107), ('recuerdenlo', 1108), ('darte', 1109), ('blindado', 1110), ('debería', 1111), ('puesto', 1112), ('rome', 1113), ('quiero', 1114), ('uh', 1115), ('rato', 1116), ('canal', 1117), ('genuinos', 1118), ('estúpido', 1119), ('fallecer', 1120), ('parió', 1121), ('pasarlo', 1122), ('collares', 1123), ('negors', 1124), ('lindas', 1125), ('ojalá', 1126), ('sentir', 1127), ('negamos', 1128), ('volver', 1129), ('violencia', 1130), ('perder', 1131), ('contexto', 1132), ('dura', 1133), ('usas', 1134), ('quieto', 1135), ('claramente', 1136), ('cerebro', 1137), ('vale', 1138), ('patear', 1139), ('uuh', 1140), ('caso', 1141), ('primo', 1142), ('formas', 1143), ('buscad', 1144), ('pastor', 1145), ('montado', 1146), ('abra', 1147), ('dices', 1148), ('rescatarte', 1149), ('precios', 1150), ('sola', 1151), ('ayuda', 1152), ('alegría', 1153), ('cerca', 1154), ('butters', 1155), ('veímos', 1156), ('saltar', 1157), ('avisarme', 1158), ('usar', 1159), ('iluminarse', 1160), ('lentamente', 1161), ('agradecernos', 1162), ('parar', 1163), ('figuro', 1164), ('brazaleta', 1165), ('pues', 1166), ('terraza', 1167), ('cerramos', 1168), ('enfrentamiento', 1169), ('incluida', 1170), ('listos', 1171), ('energía', 1172), ('negativo', 1173), ('poder', 1174), ('terminó', 1175), ('desangras', 1176), ('dólares', 1177), ('oakland', 1178), ('pilas', 1179), ('esmeraldas', 1180), ('intención', 1181), ('conseguido', 1182), ('órdenes', 1183), ('botiquín', 1184), ('empiezo', 1185), ('terminen', 1186), ('jodemos', 1187), ('compramos', 1188), ('nube', 1189), ('dejadme', 1190), ('tres', 1191), ('carajos', 1192), ('sigo', 1193), ('cremosidad', 1194), ('lunes', 1195), ('haces', 1196), ('homófoba', 1197), ('quatorce', 1198), ('craig', 1199), ('relación', 1200), ('sucedido', 1201), ('demostrando', 1202), ('cero', 1203), ('socios', 1204), ('trata', 1205), ('seis', 1206), ('locos', 1207), ('mamá', 1208), ('apuesto', 1209), ('novatos', 1210), ('ser', 1211), ('pueda', 1212), ('quedará', 1213), ('estáte', 1214), ('símbolo', 1215), ('gusto', 1216), ('fácilmente', 1217), ('completamete', 1218), ('parece', 1219), ('producto', 1220), ('segura', 1221), ('francamente', 1222), ('generoso', 1223), ('vuelve', 1224), ('hijo', 1225), ('disfrutamos', 1226), ('acero', 1227), ('gustof', 1228), ('cogerla', 1229), ('pongamoslo', 1230), ('asustar', 1231), ('futuro', 1232), ('calle', 1233), ('archer', 1234), ('pena', 1235), ('entiendes', 1236), ('peluche', 1237), ('excuso', 1238), ('armado', 1239), ('jugador', 1240), ('nueva', 1241), ('seaís', 1242), ('indica', 1243), ('mucha', 1244), ('cloro', 1245), ('vienes', 1246), ('ocupe', 1247), ('sarcástico', 1248), ('dijeron', 1249), ('topo', 1250), ('interpretar', 1251), ('cada', 1252), ('temas', 1253), ('reforzada', 1254), ('interesantes', 1255), ('presidente', 1256), ('felizidad', 1257), ('idea', 1258), ('stan', 1259), ('reales', 1260), ('siete', 1261), ('entusiasma', 1262), ('litros', 1263), ('mali', 1264), ('joden', 1265), ('carácter', 1266), ('réplica', 1267), ('robando', 1268), ('vergón', 1269), ('dejado', 1270), ('pagar', 1271), ('pastel', 1272), ('trabajamos', 1273), ('traer', 1274), ('echar', 1275), ('ningún', 1276), ('pinta', 1277), ('noches', 1278), ('ocurriendo', 1279), ('tirarte', 1280), ('médica', 1281), ('hará', 1282), ('difícil', 1283), ('cola', 1284), ('bourbon', 1285), ('cutre', 1286), ('pásalo', 1287), ('traficante', 1288), ('leído', 1289), ('contar', 1290), ('amigo', 1291), ('promoción', 1292), ('usando', 1293), ('veo', 1294), ('cagar', 1295), ('subir', 1296), ('brasil', 1297), ('brújula', 1298), ('evitar', 1299), ('nadie', 1300), ('sufro', 1301), ('vayas', 1302), ('cascos', 1303), ('pidiera', 1304), ('regresemos', 1305), ('mani', 1306), ('contento', 1307), ('fondo', 1308), ('ustedes', 1309), ('ausencia', 1310), ('tiempos', 1311), ('partir', 1312), ('frente', 1313), ('extrañará', 1314), ('teléfonos', 1315), ('hielo', 1316), ('comprenlo', 1317), ('pistol', 1318), ('acceso', 1319), ('sé', 1320), ('encima', 1321), ('crecido', 1322), ('carrachi', 1323), ('empleado', 1324), ('mano', 1325), ('licores', 1326), ('conoce', 1327), ('enormes', 1328), ('pañales', 1329), ('busca', 1330), ('corazón', 1331), ('robó', 1332), ('podrías', 1333), ('víctimas', 1334), ('burbón', 1335), ('maldita', 1336), ('domésticos', 1337), ('edad', 1338), ('escáneo', 1339), ('pasando', 1340), ('cojínes', 1341), ('poniendo', 1342), ('pelígro', 1343), ('llamen', 1344), ('timarnos', 1345), ('pai', 1346), ('esperándome', 1347), ('seguiste', 1348), ('descortéz', 1349), ('alegra', 1350), ('hora', 1351), ('eh', 1352), ('servicios', 1353), ('kyle', 1354), ('sedes', 1355), ('canadá', 1356), ('andabamos', 1357), ('manera', 1358), ('contrario', 1359), ('patos', 1360), ('pistola', 1361), ('rendirse', 1362), ('acepta', 1363), ('bondad', 1364), ('niña', 1365), ('suéltalas', 1366), ('improvisable', 1367), ('despeto', 1368), ('conmoción', 1369), ('diamantes', 1370), ('archerizar', 1371), ('botella', 1372), ('trabajo', 1373), ('ben', 1374), ('comodines', 1375), ('selector', 1376), ('peor', 1377), ('lineación', 1378), ('cáncer', 1379), ('manos', 1380), ('despeché', 1381), ('correrá', 1382), ('colarnos', 1383), ('hombro', 1384), ('frase', 1385), ('devolvemos', 1386), ('entrenarlos', 1387), ('cuesta', 1388), ('habitación', 1389), ('gramo', 1390), ('casi', 1391), ('aún', 1392), ('cin', 1393), ('maldito', 1394), ('porquería', 1395), ('zona', 1396), ('sabemos', 1397), ('profesionales', 1398), ('liga', 1399), ('así', 1400), ('díle', 1401), ('alguién', 1402), ('copas', 1403), ('genial', 1404), ('insultos', 1405), ('contado', 1406), ('escapan', 1407), ('refería', 1408), ('esperando', 1409), ('decirémos', 1410), ('repente', 1411), ('pachata', 1412), ('controles', 1413), ('carteles', 1414), ('bárbaros', 1415), ('conductos', 1416), ('deja', 1417), ('querré', 1418), ('cuentan', 1419), ('reemplazar', 1420), ('necesito', 1421), ('ves', 1422), ('platos', 1423), ('cómo', 1424), ('dispararan', 1425), ('tac', 1426), ('envían', 1427), ('barbaridades', 1428), ('móvil', 1429), ('pensarlo', 1430), ('extra', 1431), ('mala', 1432), ('cilo', 1433), ('jodiendo', 1434), ('pantalones', 1435), ('timó', 1436), ('lexington', 1437), ('meneara', 1438), ('adreza', 1439), ('baño', 1440), ('gaylandia', 1441), ('cállate', 1442), ('valor', 1443), ('sosténes', 1444), ('tragado', 1445), ('randy', 1446), ('recuerda', 1447), ('comienzan', 1448), ('lastimado', 1449), ('haciendo', 1450), ('conté', 1451), ('investigaciones', 1452), ('refuerzos', 1453), ('modificando', 1454), ('traidor', 1455), ('romper', 1456), ('cuatro', 1457), ('recuperar', 1458), ('va', 1459), ('cálido', 1460), ('montar', 1461), ('esfuerzo', 1462), ('negro', 1463), ('dividimos', 1464), ('llevo', 1465), ('cambios', 1466), ('terminar', 1467), ('detuvo', 1468), ('miente', 1469), ('duró', 1470), ('costó', 1471), ('paciente', 1472), ('retiramos', 1473), ('permiteme', 1474), ('hermosa', 1475), ('tono', 1476), ('sabían', 1477), ('amenazado', 1478), ('imbécil', 1479), ('sirven', 1480), ('siendo', 1481), ('cabeza', 1482), ('encuentra', 1483), ('preocupada', 1484), ('oído', 1485), ('digo', 1486), ('imponentes', 1487), ('collar', 1488), ('trece', 1489), ('hindu', 1490), ('haberle', 1491), ('conway', 1492), ('sangrientas', 1493), ('diste', 1494), ('relleno', 1495), ('deportaran', 1496), ('compra', 1497), ('avión', 1498), ('idiota', 1499), ('sujeto', 1500), ('yurta', 1501), ('futból', 1502), ('chicos', 1503), ('paracaigas', 1504), ('decirte', 1505), ('mirad', 1506), ('jode', 1507), ('pregunto', 1508), ('conocido', 1509), ('sueños', 1510), ('navegantes', 1511), ('violador', 1512), ('todas', 1513), ('aires', 1514), ('quince', 1515), ('gritar', 1516), ('avisárselo', 1517), ('perstigioso', 1518), ('lógica', 1519), ('pronuncia', 1520), ('quedo', 1521), ('clavos', 1522), ('matáis', 1523), ('juegen', 1524), ('analogía', 1525), ('dónde', 1526), ('libre', 1527), ('ello', 1528), ('confundirme', 1529), ('explotan', 1530), ('playa', 1531), ('especial', 1532), ('éxito', 1533), ('ejemplo', 1534), ('sacad', 1535), ('pipa', 1536), ('innecesariamente', 1537), ('debilidad', 1538), ('tantos', 1539), ('retribución', 1540), ('efectos', 1541), ('paquistán', 1542), ('pedir', 1543), ('maneja', 1544), ('llevar', 1545), ('apellido', 1546), ('canguro', 1547), ('quede', 1548), ('llamarás', 1549), ('listo', 1550), ('costoso', 1551), ('empeño', 1552), ('cargar', 1553), ('jodía', 1554), ('recibir', 1555), ('sudamérica', 1556), ('tacos', 1557), ('nfl', 1558), ('tutora', 1559), ('deberían', 1560), ('kilítos', 1561), ('váter', 1562), ('fundidor', 1563), ('advierto', 1564), ('inicial', 1565), ('puta', 1566), ('denver', 1567), ('mire', 1568), ('año', 1569), ('verte', 1570), ('volar', 1571), ('mundo', 1572), ('ciberosíto', 1573), ('pagó', 1574), ('cargo', 1575), ('preguntado', 1576), ('mejorar', 1577), ('lleve', 1578), ('perdón', 1579), ('recuerdos', 1580), ('entiende', 1581), ('preocupado', 1582), ('seguridad', 1583), ('cabrón', 1584), ('toman', 1585), ('divertido', 1586), ('acerca', 1587), ('ir', 1588), ('inventó', 1589), ('aire', 1590), ('castaña', 1591), ('cubrirlo', 1592), ('comenzó', 1593), ('deciendo', 1594), ('gustarán', 1595), ('sarcasmobol', 1596), ('accidentes', 1597), ('necesidad', 1598), ('archivo', 1599), ('auténticos', 1600), ('padre', 1601), ('marcador', 1602), ('cartél', 1603), ('color', 1604), ('central', 1605), ('acaba', 1606), ('demás', 1607), ('sevidor', 1608), ('hacer', 1609), ('jilibollas', 1610), ('ofrece', 1611), ('contratado', 1612), ('stanley', 1613), ('programa', 1614), ('calor', 1615), ('mentiste', 1616), ('cañero', 1617), ('pedido', 1618), ('joderme', 1619), ('agradezca', 1620), ('sombreros', 1621), ('apuntado', 1622), ('comerciales', 1623), ('urgencia', 1624), ('pillarte', 1625), ('ríe', 1626), ('vieron', 1627), ('feliz', 1628), ('disparado', 1629), ('juegas', 1630), ('herir', 1631), ('tío', 1632), ('ven', 1633), ('tiraríais', 1634), ('buscando', 1635), ('vida', 1636), ('tanzanita', 1637), ('comprarles', 1638), ('dijo', 1639), ('levanta', 1640), ('llevarse', 1641), ('damos', 1642), ('bien', 1643), ('ropa', 1644), ('cuarenta', 1645), ('regla', 1646), ('producen', 1647), ('fuego', 1648), ('linda', 1649), ('descaradamente', 1650), ('pibe', 1651), ('encuentren', 1652), ('tb', 1653), ('siquiera', 1654), ('único', 1655), ('salidos', 1656), ('cabrearme', 1657), ('desintoxicándose', 1658), ('espera', 1659), ('comisionado', 1660), ('recargando', 1661), ('futbol', 1662), ('lugares', 1663), ('llamado', 1664), ('pasar', 1665), ('gordado', 1666), ('asta', 1667), ('saber', 1668), ('south', 1669), ('tarjeta', 1670), ('park', 1671), ('verá', 1672), ('bromista', 1673), ('pasado', 1674), ('café', 1675), ('posan', 1676), ('vuelvo', 1677), ('buen', 1678), ('deberías', 1679), ('acabe', 1680), ('veas', 1681), ('venta', 1682), ('gicante', 1683), ('ayudarían', 1684), ('abrazan', 1685), ('árbitros', 1686), ('ciencia', 1687), ('comida', 1688), ('cualquiera', 1689), ('profesional', 1690), ('deportes', 1691), ('pensaba', 1692), ('sacas', 1693), ('mostrar', 1694), ('hueca', 1695), ('urdu', 1696), ('bebé', 1697), ('dejar', 1698), ('salir', 1699), ('llamamos', 1700), ('servidor', 1701), ('rojo', 1702), ('entiendo', 1703), ('traicionó', 1704), ('conduce', 1705), ('cubierto', 1706), ('custodiada', 1707), ('pienso', 1708), ('bébe', 1709), ('abrochame', 1710), ('pensamientos', 1711), ('prestame', 1712), ('aqui', 1713), ('uy', 1714), ('casa', 1715), ('deseado', 1716), ('duda', 1717), ('perdidio', 1718), ('ken', 1719), ('puedas', 1720), ('cree', 1721), ('dólar', 1722), ('enviarlo', 1723), ('cogerlas', 1724), ('aquella', 1725), ('bienvenido', 1726), ('caemos', 1727), ('sesiones', 1728), ('sentiría', 1729), ('altura', 1730), ('bienvenida', 1731), ('prioridad', 1732), ('traumas', 1733), ('terminado', 1734), ('broncos', 1735), ('verdad', 1736), ('además', 1737), ('explicar', 1738), ('hoy', 1739), ('jodo', 1740), ('cantidades', 1741), ('llevan', 1742), ('elegir', 1743), ('bell', 1744), ('bolas', 1745), ('pido', 1746), ('harémos', 1747), ('leccion', 1748), ('sabía', 1749), ('brazaletes', 1750), ('usan', 1751), ('oro', 1752), ('ocurrido', 1753), ('economía', 1754), ('david', 1755), ('algún', 1756), ('rayo', 1757), ('hermosos', 1758), ('sofá', 1759), ('información', 1760), ('venido', 1761), ('fuma', 1762), ('victoria', 1763), ('bastante', 1764), ('oigan', 1765), ('amenaza', 1766), ('siesta', 1767), ('secreto', 1768), ('chúpalas', 1769), ('compran', 1770), ('sacamos', 1771), ('sucia', 1772), ('espectadores', 1773), ('jodiéndola', 1774), ('jueguen', 1775), ('primera', 1776), ('animal', 1777), ('pudieseis', 1778), ('ver', 1779), ('noventa', 1780), ('hijos', 1781), ('ayudarémos', 1782), ('té', 1783), ('quizás', 1784), ('parecen', 1785), ('barra', 1786), ('quisiera', 1787), ('oye', 1788), ('permiten', 1789), ('operan', 1790), ('vinieramos', 1791), ('tendrémos', 1792), ('bret', 1793), ('negociar', 1794), ('atención', 1795), ('equación', 1796), ('arriba', 1797), ('marsh', 1798), ('presidencia', 1799), ('gentil', 1800), ('coronel', 1801), ('mover', 1802), ('v', 1803), ('prefiero', 1804), ('niñera', 1805), ('secuestrado', 1806), ('brasileño', 1807), ('razón', 1808), ('mal', 1809), ('venimos', 1810), ('américa', 1811), ('robaron', 1812), ('directa', 1813), ('vamos', 1814), ('claudia', 1815), ('tranquila', 1816), ('notación', 1817), ('hacen', 1818), ('pegado', 1819), ('pérdida', 1820), ('refiero', 1821), ('animadoras', 1822), ('dos', 1823), ('oso', 1824), ('cíborg', 1825), ('línea', 1826), ('chisme', 1827), ('hagámos', 1828), ('pateamos', 1829), ('clyde', 1830), ('vuelva', 1831), ('bigotón', 1832), ('fórmula', 1833), ('dame', 1834), ('cal', 1835), ('escuchar', 1836), ('enémigo', 1837), ('quedarás', 1838), ('desgraciado', 1839), ('atrás', 1840), ('familiar', 1841), ('clave', 1842), ('contentísimo', 1843), ('agotado', 1844), ('muchachas', 1845), ('cuija', 1846), ('camradería', 1847), ('hacia', 1848), ('disco', 1849), ('descansan', 1850), ('capaz', 1851), ('sido', 1852), ('hacerle', 1853), ('años', 1854), ('venganza', 1855), ('sesos', 1856), ('sospechábamos', 1857), ('defensor', 1858), ('haga', 1859), ('freelance', 1860), ('compañeros', 1861), ('x', 1862), ('inventor', 1863), ('ancianos', 1864), ('chica', 1865), ('heróico', 1866), ('preparas', 1867), ('importantes', 1868), ('ancha', 1869), ('huecos', 1870), ('conducir', 1871), ('mate', 1872), ('sólo', 1873), ('dispararon', 1874), ('gastaste', 1875), ('tejido', 1876), ('hermanita', 1877), ('chinos', 1878), ('ocho', 1879), ('chupe', 1880), ('aprovecha', 1881), ('cámara', 1882), ('vimos', 1883), ('toquecíto', 1884), ('himno', 1885), ('decía', 1886), ('averiguarémos', 1887), ('cartas', 1888), ('gane', 1889), ('culos', 1890), ('inmaduro', 1891), ('dama', 1892), ('copa', 1893), ('justo', 1894), ('elección', 1895), ('vaya', 1896), ('ligas', 1897), ('alias', 1898), ('testamento', 1899), ('caríta', 1900), ('tomo', 1901), ('muchísimo', 1902), ('woodhouse', 1903), ('fuerte', 1904), ('mejora', 1905), ('verla', 1906), ('cuidado', 1907), ('vuelvas', 1908), ('espero', 1909), ('ocasión', 1910), ('fastidiarse', 1911), ('jamontillado', 1912), ('lana', 1913), ('real', 1914), ('usado', 1915), ('irónico', 1916), ('árbitro', 1917), ('baruk', 1918), ('concozco', 1919), ('atrape', 1920), ('descubierto', 1921), ('cielo', 1922), ('sale', 1923), ('fanático', 1924), ('preocupación', 1925), ('murió', 1926), ('sufras', 1927), ('ponle', 1928), ('descubra', 1929), ('saldrémos', 1930), ('chovinista', 1931), ('roba', 1932), ('abracen', 1933), ('patches', 1934), ('escuchen', 1935), ('pobrecito', 1936), ('vagamente', 1937), ('iban', 1938), ('capital', 1939), ('peso', 1940), ('ponerte', 1941), ('motél', 1942), ('guardarla', 1943), ('necesitamos', 1944), ('complicado', 1945), ('sabrás', 1946), ('hablas', 1947), ('proviene', 1948), ('quieres', 1949), ('cuentas', 1950), ('formar', 1951), ('comunicamos', 1952), ('buenas', 1953), ('mato', 1954), ('sabor', 1955), ('sacarte', 1956), ('ayer', 1957), ('camaradería', 1958), ('días', 1959), ('ábrelo', 1960), ('área', 1961), ('decírselo', 1962), ('paquistaní', 1963), ('mira', 1964), ('sigas', 1965), ('volvería', 1966), ('luces', 1967), ('junto', 1968), ('dios', 1969), ('vas', 1970), ('siguen', 1971), ('tradicional', 1972), ('hermosura', 1973), ('gracias', 1974), ('cúbreme', 1975), ('asunto', 1976), ('villy', 1977), ('llama', 1978), ('maquillaron', 1979), ('emociona', 1980), ('adentro', 1981), ('tomar', 1982), ('distinguir', 1983), ('literalmente', 1984), ('aprovecharse', 1985), ('implicaré', 1986), ('pruebas', 1987), ('necesarias', 1988), ('cadena', 1989), ('ciego', 1990), ('ojo', 1991), ('serio', 1992), ('jim', 1993), ('cagando', 1994), ('coño', 1995), ('quere', 1996), ('división', 1997), ('pelotas', 1998), ('podríamos', 1999), ('práctica', 2000), ('viernes', 2001), ('sharon', 2002), ('ira', 2003), ('cordón', 2004), ('literalment', 2005), ('suerte', 2006), ('aj', 2007), ('creer', 2008), ('skymal', 2009), ('ley', 2010), ('compren', 2011), ('necesario', 2012), ('disculpe', 2013), ('mujer', 2014), ('saco', 2015), ('maestros', 2016), ('siguiente', 2017), ('maritin', 2018), ('desaparecido', 2019), ('robo', 2020), ('martín', 2021), ('envidia', 2022), ('sol', 2023), ('quiera', 2024), ('aprendiendo', 2025), ('sacado', 2026), ('brasilia', 2027), ('terminarse', 2028), ('fondos', 2029), ('grite', 2030), ('grandes', 2031), ('compromiso', 2032), ('representante', 2033), ('dense', 2034), ('identidad', 2035), ('joder', 2036), ('refrán', 2037), ('cuidar', 2038), ('reunión', 2039), ('piensas', 2040), ('allí', 2041), ('rondie', 2042), ('suficientes', 2043), ('intento', 2044), ('puñalada', 2045), ('preocupes', 2046), ('parecido', 2047), ('realmente', 2048), ('hmmm', 2049), ('notaria', 2050), ('entregarte', 2051), ('horas', 2052), ('decir', 2053), ('cosquillas', 2054), ('mejor', 2055), ('jugarlo', 2056), ('prohibe', 2057), ('dio', 2058), ('dije', 2059), ('estadísticas', 2060), ('multicampo', 2061), ('santo', 2062), ('maldítas', 2063), ('siquera', 2064), ('palmadas', 2065), ('traicioneros', 2066), ('actor', 2067), ('pasa', 2068), ('idiotas', 2069), ('sostén', 2070), ('horatio', 2071), ('fuerzas', 2072), ('cubrirá', 2073), ('streling', 2074), ('provienen', 2075), ('cargando', 2076), ('payton', 2077), ('kay', 2078), ('sientes', 2079), ('crearla', 2080), ('hambre', 2081), ('entendemos', 2082), ('cuestión', 2083), ('llamo', 2084), ('esperar', 2085), ('comenzar', 2086), ('pillar', 2087), ('inventaron', 2088), ('osíto', 2089), ('jodedor', 2090), ('confundido', 2091), ('cristal', 2092), ('pondré', 2093), ('desangrando', 2094), ('millones', 2095), ('salió', 2096), ('consigo', 2097), ('regalado', 2098), ('amistad', 2099), ('reventa', 2100), ('acabó', 2101), ('jolín', 2102), ('washington', 2103), ('argentio', 2104), ('normal', 2105), ('espere', 2106), ('siento', 2107), ('modo', 2108), ('provocar', 2109), ('sitio', 2110), ('pierde', 2111), ('identificación', 2112), ('esperé', 2113), ('hicimos', 2114), ('cojones', 2115), ('ordenador', 2116), ('coños', 2117), ('acercarse', 2118), ('nervioso', 2119), ('tienda', 2120), ('basa', 2121), ('quete', 2122)]\n"
     ]
    }
   ],
   "source": [
    "##Crear vocabulario\n",
    "vocabulario = df.preprocesado.str.cat(sep=\" \")##concatenar todos los textos\n",
    "vocabulario = set(vocabulario.split())##quitar elementos repetidos en la lista con set\n",
    "vocabulario = [(word,i+1) for i,word in enumerate(vocabulario)]##enumerar cada palabra de la lista comenzando desde 1\n",
    "print(vocabulario)"
   ]
  },
  {
   "cell_type": "code",
   "execution_count": 49,
   "metadata": {},
   "outputs": [],
   "source": [
    "##Bolsa de palabras\n",
    "def bow(frase):\n",
    "    frase_bow = [0]*len(vocabulario)\n",
    "    for word,i in vocabulario:\n",
    "        if word in frase.split():\n",
    "            frase_bow[i-1] = 1\n",
    "    print(frase_bow)"
   ]
  },
  {
   "cell_type": "code",
   "execution_count": 52,
   "metadata": {},
   "outputs": [
    {
     "name": "stdout",
     "output_type": "stream",
     "text": [
      "[0, 0, 0, 0, 0, 0, 0, 0, 0, 0, 0, 0, 0, 0, 0, 0, 0, 0, 0, 0, 0, 0, 0, 0, 0, 0, 0, 0, 0, 0, 0, 0, 0, 0, 0, 0, 0, 0, 0, 0, 0, 0, 0, 0, 0, 0, 0, 0, 0, 0, 0, 0, 0, 0, 0, 0, 0, 0, 0, 0, 0, 0, 0, 0, 0, 0, 0, 0, 0, 0, 0, 0, 0, 0, 0, 0, 0, 0, 0, 0, 0, 0, 0, 0, 0, 0, 0, 0, 0, 0, 0, 0, 0, 0, 0, 0, 0, 1, 0, 0, 0, 0, 0, 0, 0, 0, 0, 0, 0, 0, 0, 0, 0, 0, 0, 0, 0, 0, 0, 0, 0, 0, 0, 0, 0, 0, 0, 0, 0, 0, 0, 0, 0, 0, 0, 0, 0, 0, 0, 0, 0, 0, 0, 0, 0, 0, 0, 0, 0, 0, 0, 0, 0, 0, 0, 0, 0, 0, 0, 0, 0, 0, 0, 0, 0, 0, 0, 0, 0, 0, 0, 0, 0, 0, 0, 0, 0, 0, 0, 0, 0, 0, 0, 0, 0, 0, 0, 0, 0, 0, 0, 0, 0, 0, 0, 0, 0, 0, 0, 0, 0, 0, 0, 0, 0, 0, 0, 0, 0, 0, 0, 0, 0, 0, 0, 0, 0, 0, 0, 0, 0, 0, 0, 0, 0, 0, 0, 0, 0, 0, 0, 0, 0, 0, 0, 0, 0, 0, 0, 0, 0, 0, 0, 0, 0, 0, 0, 0, 0, 0, 0, 0, 0, 0, 0, 0, 0, 0, 0, 0, 0, 0, 0, 0, 0, 0, 0, 0, 0, 0, 0, 0, 0, 0, 0, 0, 0, 0, 0, 0, 0, 0, 0, 0, 0, 0, 0, 0, 0, 0, 0, 0, 0, 0, 0, 0, 0, 0, 0, 0, 0, 0, 0, 0, 0, 0, 0, 0, 0, 0, 0, 0, 0, 0, 0, 0, 0, 0, 0, 0, 0, 0, 0, 0, 0, 0, 0, 0, 0, 0, 0, 0, 0, 0, 0, 0, 0, 0, 0, 0, 0, 0, 0, 0, 0, 0, 0, 0, 0, 0, 0, 0, 0, 0, 0, 0, 0, 0, 0, 0, 0, 0, 0, 0, 0, 0, 0, 0, 0, 0, 0, 0, 0, 0, 0, 0, 0, 0, 0, 0, 0, 0, 0, 0, 0, 0, 0, 0, 0, 0, 0, 0, 0, 0, 0, 0, 0, 0, 0, 0, 0, 0, 0, 0, 0, 0, 0, 0, 0, 0, 0, 0, 0, 0, 0, 0, 0, 0, 0, 0, 0, 0, 0, 0, 0, 0, 0, 0, 0, 0, 0, 0, 0, 0, 0, 0, 0, 0, 0, 0, 0, 0, 0, 0, 0, 0, 0, 0, 0, 0, 0, 0, 0, 0, 0, 0, 0, 0, 0, 0, 0, 0, 0, 0, 0, 0, 0, 0, 0, 0, 0, 0, 0, 0, 0, 0, 0, 0, 0, 0, 0, 0, 0, 0, 0, 0, 0, 0, 0, 0, 0, 0, 0, 0, 0, 0, 0, 0, 0, 0, 0, 0, 0, 0, 0, 0, 0, 0, 0, 0, 0, 0, 0, 0, 0, 0, 0, 0, 0, 0, 0, 0, 0, 0, 0, 0, 0, 0, 0, 0, 0, 0, 0, 0, 0, 0, 0, 0, 0, 0, 0, 0, 0, 0, 0, 0, 0, 0, 0, 0, 0, 0, 0, 0, 0, 0, 0, 0, 0, 0, 0, 0, 0, 0, 0, 0, 0, 0, 0, 0, 0, 0, 0, 0, 0, 0, 0, 0, 0, 0, 0, 0, 0, 0, 0, 0, 0, 0, 0, 0, 0, 0, 0, 0, 0, 0, 0, 0, 0, 0, 0, 0, 0, 0, 0, 0, 0, 0, 0, 0, 0, 0, 0, 0, 0, 0, 0, 0, 0, 0, 0, 0, 0, 0, 0, 0, 0, 0, 0, 0, 0, 0, 0, 0, 0, 0, 0, 0, 0, 0, 0, 0, 0, 0, 0, 0, 0, 0, 0, 0, 0, 0, 0, 0, 0, 0, 0, 0, 0, 0, 0, 0, 0, 0, 0, 0, 0, 0, 0, 0, 0, 0, 0, 0, 0, 0, 0, 0, 0, 0, 0, 0, 0, 0, 0, 0, 0, 0, 0, 0, 0, 0, 0, 0, 0, 0, 0, 0, 0, 0, 0, 0, 0, 0, 0, 0, 0, 0, 0, 0, 0, 0, 0, 0, 0, 0, 0, 0, 0, 0, 0, 0, 0, 0, 0, 0, 0, 0, 0, 0, 0, 0, 0, 0, 0, 0, 0, 0, 0, 0, 0, 0, 0, 0, 0, 0, 0, 0, 0, 0, 0, 0, 0, 0, 0, 0, 0, 0, 0, 0, 0, 0, 0, 0, 0, 0, 0, 0, 0, 0, 0, 0, 0, 0, 0, 0, 0, 0, 0, 0, 0, 0, 0, 0, 0, 0, 0, 0, 0, 0, 0, 0, 0, 0, 0, 0, 0, 0, 0, 0, 0, 0, 0, 0, 0, 0, 0, 0, 0, 0, 1, 0, 0, 0, 0, 0, 0, 0, 0, 0, 0, 0, 0, 0, 0, 0, 0, 0, 0, 0, 0, 0, 0, 0, 0, 0, 0, 0, 0, 0, 0, 0, 0, 0, 0, 0, 0, 0, 0, 0, 0, 0, 0, 0, 0, 0, 0, 0, 0, 0, 0, 0, 0, 0, 0, 0, 0, 0, 0, 0, 0, 0, 0, 0, 0, 0, 0, 0, 0, 0, 0, 0, 0, 0, 0, 0, 0, 0, 0, 0, 0, 0, 0, 0, 0, 0, 0, 0, 0, 0, 0, 0, 0, 0, 0, 0, 0, 0, 0, 0, 0, 0, 0, 0, 0, 0, 0, 0, 0, 0, 0, 0, 0, 0, 0, 0, 0, 0, 0, 0, 0, 0, 0, 0, 0, 0, 0, 0, 0, 0, 0, 0, 0, 0, 0, 0, 0, 0, 0, 0, 0, 0, 0, 0, 0, 0, 0, 0, 0, 0, 0, 0, 0, 0, 0, 0, 0, 0, 0, 0, 0, 0, 0, 0, 0, 0, 0, 0, 0, 0, 0, 0, 0, 0, 0, 0, 0, 0, 0, 0, 0, 0, 0, 0, 0, 0, 0, 0, 0, 0, 0, 0, 0, 0, 0, 0, 0, 0, 0, 0, 0, 0, 0, 0, 0, 0, 0, 0, 0, 0, 0, 0, 0, 0, 0, 0, 0, 0, 0, 0, 0, 0, 0, 0, 0, 0, 0, 0, 0, 0, 0, 0, 0, 0, 0, 0, 0, 0, 0, 0, 0, 0, 0, 0, 0, 0, 0, 0, 0, 0, 0, 0, 0, 0, 0, 0, 0, 0, 0, 0, 0, 0, 0, 0, 0, 0, 0, 0, 0, 0, 0, 0, 0, 0, 0, 0, 0, 0, 0, 0, 0, 0, 0, 0, 0, 0, 0, 0, 0, 0, 0, 0, 0, 0, 0, 0, 0, 0, 0, 0, 0, 0, 0, 0, 0, 0, 0, 0, 0, 0, 0, 0, 0, 0, 0, 0, 0, 0, 0, 0, 0, 0, 0, 0, 0, 0, 0, 0, 0, 0, 0, 0, 0, 0, 0, 0, 0, 0, 0, 0, 0, 0, 0, 0, 0, 0, 0, 0, 0, 0, 0, 0, 0, 0, 0, 0, 0, 0, 0, 0, 0, 1, 0, 0, 0, 0, 0, 0, 0, 0, 0, 0, 0, 0, 0, 0, 0, 0, 0, 0, 0, 0, 0, 0, 0, 0, 0, 0, 0, 0, 0, 0, 0, 0, 0, 0, 0, 0, 0, 0, 0, 0, 0, 0, 0, 0, 0, 0, 0, 0, 0, 0, 0, 0, 0, 0, 0, 0, 0, 0, 0, 0, 0, 0, 0, 0, 0, 0, 0, 0, 0, 0, 0, 0, 0, 0, 0, 0, 0, 0, 0, 0, 0, 0, 0, 0, 0, 0, 0, 0, 0, 0, 0, 0, 0, 0, 0, 0, 0, 0, 0, 0, 0, 0, 0, 0, 0, 0, 0, 0, 0, 0, 0, 0, 0, 0, 0, 0, 0, 0, 0, 0, 0, 0, 0, 0, 0, 0, 0, 0, 0, 0, 0, 0, 0, 0, 0, 0, 0, 0, 0, 0, 0, 0, 0, 0, 0, 0, 0, 0, 0, 0, 0, 0, 0, 0, 0, 0, 0, 0, 0, 0, 0, 0, 0, 0, 0, 0, 0, 0, 0, 0, 0, 0, 0, 0, 0, 0, 0, 0, 0, 0, 0, 0, 0, 0, 0, 0, 0, 0, 0, 0, 0, 0, 0, 0, 0, 0, 0, 0, 0, 0, 0, 0, 0, 0, 0, 0, 0, 0, 0, 0, 0, 0, 0, 0, 0, 0, 0, 0, 0, 0, 0, 0, 0, 0, 0, 0, 0, 1, 0, 0, 0, 0, 0, 0, 0, 0, 0, 0, 0, 0, 0, 0, 0, 0, 0, 0, 0, 0, 0, 0, 0, 0, 0, 0, 0, 0, 0, 0, 0, 0, 0, 0, 0, 0, 0, 0, 0, 0, 0, 0, 0, 0, 0, 0, 0, 0, 0, 0, 0, 0, 0, 0, 0, 0, 0, 0, 0, 0, 0, 0, 0, 0, 0, 0, 0, 0, 0, 0, 0, 0, 0, 0, 0, 0, 0, 0, 0, 0, 0, 0, 0, 0, 0, 0, 0, 0, 0, 0, 0, 0, 0, 0, 0, 0, 0, 0, 0, 0, 0, 0, 0, 0, 0, 0, 0, 0, 0, 0, 0, 0, 0, 0, 0, 0, 0, 0, 0, 0, 0, 0, 0, 0, 0, 0, 0, 0, 0, 0, 0, 0, 0, 0, 0, 0, 0, 0, 0, 0, 0, 0, 0, 0, 0, 0, 0, 0, 0, 0, 0, 0, 0, 0, 0, 0, 0, 0, 0, 0, 0, 0, 0, 0, 0, 0, 0, 0, 0, 0, 0, 0, 0, 0, 0, 0, 0, 0, 0, 0, 0, 0, 0, 0, 0, 0, 0, 0, 0, 0, 0, 0, 0, 0, 0, 0, 0, 0, 0, 0, 0, 0, 0, 0, 0, 0, 0, 0, 0, 0, 0, 0, 0, 0, 0, 0, 0, 0, 0, 0, 0, 0, 0, 0, 0, 0, 0, 0, 0, 0, 0, 0, 0, 0, 0, 0, 0, 0, 0, 0, 0, 0, 0, 0, 0, 0, 0, 0, 0, 0, 0, 0, 0, 0, 0, 0, 0, 0, 0, 0, 0, 0, 0, 0, 0, 0, 0, 0, 0, 0, 0, 0, 0, 0, 0, 0, 0, 0, 0, 0, 0, 0, 0, 0, 0, 0, 0, 0, 0, 0, 0, 0, 0, 0, 0, 0, 0, 0, 0, 0, 0, 0, 0, 0, 0, 0, 0, 0, 0, 0, 0, 0, 0, 0, 0, 0, 0, 0, 0, 0, 0, 0, 0, 0, 0, 0, 0, 0, 0, 0, 0, 0, 0, 0, 0, 0, 0, 0, 0, 0, 0, 0, 0, 0, 0, 0, 0, 0, 0, 0, 0, 0, 0, 0, 0, 0, 0, 0, 0, 0, 0, 0, 0, 0, 0, 0, 0, 0, 0, 0, 0, 0, 0, 0, 0, 0, 0, 0, 0, 0, 0, 0, 0, 0, 0, 0, 0, 0, 0, 0, 0, 0, 0, 0, 0, 0, 0, 0, 0, 0, 0, 0, 0, 0, 0, 0, 0, 1, 0, 0, 0, 0, 0, 0, 0, 0, 0, 0, 0, 0, 0, 0, 0, 0, 0, 0, 0, 0, 0, 0, 0, 0, 0, 0, 0, 0, 0, 0, 0, 0, 0, 0, 0, 0, 0, 0, 0, 0, 0, 0, 0, 0, 0, 0, 0, 0, 0, 0, 0, 0, 0, 0, 0, 0, 0, 0, 0, 0, 0, 0, 0, 0, 0, 0, 0, 0, 0, 0, 0, 0, 0, 0, 0, 0, 0, 0, 0, 0, 0, 0, 0, 0, 0, 0, 0, 0, 0, 0, 0, 0, 0, 0, 0, 0, 0, 0, 0, 0, 0, 0, 0, 0, 0, 0, 0, 0, 0, 0, 0, 0, 0, 0, 0, 0, 0, 0, 0, 0, 0, 0, 0, 0, 0, 0, 0, 0, 0, 0, 0, 0, 0, 0, 0, 0, 0, 0, 0, 0, 0, 0, 0, 0, 0, 0, 0, 0, 0, 0, 0, 0, 0, 0, 0, 0, 0, 0, 0, 0, 0, 0, 0, 0, 0, 0, 0, 0, 0, 0, 0, 0, 0, 0, 0, 0, 0, 0, 0, 0, 0, 0, 0, 0, 0, 0, 0, 0, 0, 0, 0, 0, 0, 0, 0, 0, 0, 0, 0, 0, 0, 0, 0, 0, 0, 0, 0, 0, 0, 0, 0, 0, 0, 0, 0, 0, 0, 0, 0, 0, 0, 0, 0, 0, 0, 0, 0, 0, 0, 0, 0, 0, 0, 0, 0, 0, 0, 0, 0, 0, 0, 0, 0, 0, 0, 0, 1, 0, 0, 0, 0, 0, 0, 0, 0, 0, 0, 0, 0, 0, 0, 0, 0, 0, 0, 0, 0, 0, 0, 0, 0, 0, 0, 0, 0, 0, 0, 0, 0, 0, 0, 0, 0, 0, 0, 0, 0, 0, 0, 0, 0, 0, 0, 0, 0, 0, 0, 0, 0, 0, 0, 0, 0, 0, 0, 0, 0, 0, 0, 0, 0, 0, 0, 0]\n"
     ]
    }
   ],
   "source": [
    "bow(\"razón mejor así liberas energía nagativa\")"
   ]
  },
  {
   "cell_type": "code",
   "execution_count": null,
   "metadata": {},
   "outputs": [],
   "source": [
    "#¿Cuántas palabras hay en el vocabulario? (Usando la función de `sklearn`)"
   ]
  },
  {
   "cell_type": "code",
   "execution_count": 56,
   "metadata": {},
   "outputs": [],
   "source": [
    "#Scikit_learn\n",
    "from sklearn.feature_extraction.text import CountVectorizer\n",
    "\n",
    "count_vect = CountVectorizer()\n",
    "bow_rep = count_vect.fit_transform(df.preprocesado.values)"
   ]
  },
  {
   "cell_type": "code",
   "execution_count": 57,
   "metadata": {},
   "outputs": [
    {
     "name": "stdout",
     "output_type": "stream",
     "text": [
      "Vocabulario: {'francamente': 822, 'canadiense': 274, 'favor': 803, 'tiraríais': 1939, 'allí': 63, 'si': 1817, 'pudieseis': 1597, 'razón': 1660, 'mejor': 1236, 'así': 133, 'liberas': 1115, 'energía': 696, 'nagativa': 1309, 'pues': 1605, 'sabrás': 1742, 'krieger': 1092, 'bebé': 184, 'lando': 1101, 'serio': 1804, 'randy': 1655, 'creo': 474, 'deporte': 580, 'hizo': 959, 'daño': 539, 'cerebro': 315, 'estáte': 770, 'quieto': 1641, 'esperad': 749, 'parecido': 1430, 'archer': 110, 'asustado': 130, 'usted': 2004, 'jode': 1052, 'carajo': 288, 'dios': 624, 'pibe': 1497, 'oigo': 1384, 'claro': 349, 'fuma': 835, 'junto': 1080, 'niña': 1336, 'decir': 552, 'robotizado': 1721, 'dónde': 668, 'coño': 458, 'sacado': 1748, 'mano': 1210, 'biónica': 197, 'venga': 2034, 'subid': 1870, 'atrás': 139, 'avión': 152, 'esperando': 751, 'recordadme': 1670, 'desgraciado': 595, 'mata': 1223, 'haga': 929, 'jodas': 1051, 'cyril': 515, 'haces': 925, 'ventana': 2040, 'existe': 784, 'refrán': 1684, 'hindu': 958, 'dice': 611, 'fundió': 842, 'generó': 861, 'corten': 451, 'perdón': 1485, 'voy': 2086, 'nuevo': 1354, 'intento': 1025, 'deberíamos': 544, 'tener': 1917, 'diez': 614, 'ligas': 1123, 'sarcasmobol': 1778, 'pueden': 1601, 'jugar': 1077, 'ah': 47, 'mierda': 1259, 'bien': 190, 'disculpe': 630, 'ustedes': 2005, 'lucen': 1177, 'geniales': 863, 'wow': 2101, 'juego': 1071, 'genial': 862, 'callas': 261, 'coronel': 447, 'calrissiano': 264, 'importa': 995, 'oro': 1395, 'quatorce': 1619, 'quilates': 1642, 'turquesa': 1982, 'diamantes': 609, 'reales': 1662, 'entonces': 710, 'plan': 1516, 'conway': 439, 'parece': 1426, 'innecesariamente': 1014, 'complicado': 387, 'sabes': 1739, 'intenta': 1018, 'llegar': 1155, 'zona': 2103, 'notación': 1346, 'mucha': 1291, 'amabilidad': 71, 'globo': 871, 'entrenador': 714, 'marsh': 1220, 'ahora': 49, 'hago': 932, 'lógico': 1187, 'disparado': 634, 'voto': 2085, 'madre': 1188, 'woodhouse': 2099, 'ocurrido': 1367, 'puedes': 1602, 'dejar': 566, 'ser': 1803, 'sarcástico': 1779, 'oiga': 1382, 'necesarias': 1312, 'armas': 118, 'pregunto': 1553, 'totalmente': 1960, 'oh': 1381, 'ocurriendo': 1368, 'siento': 1822, 'chicos': 322, 'papá': 1417, 'ocupado': 1364, 'broncos': 218, 'tiempo': 1930, 'oye': 1399, 'llámame': 1172, 'va': 2008, 'cría': 484, 'crees': 471, 'parecemos': 1427, 'récien': 1731, 'salidos': 1764, 'culebrón': 505, 'brasileño': 210, 'dicho': 613, 'cómo': 523, 'ayudarían': 158, 'sosténes': 1859, 'sombreros': 1852, 'papel': 1416, 'puede': 1600, 'necesitaré': 1317, 'collares': 366, 'brazaletes': 213, 'esmeraldas': 742, 'espera': 748, 'hablas': 912, 'urdu': 1995, 'imbécil': 990, 'resumiendo': 1704, 'cerrado': 317, 'limusina': 1124, 'narices': 1310, 'eh': 674, 'oigan': 1383, 'puedo': 1603, 'creer': 469, 'practicamos': 1545, 'preparamos': 1560, 'quieren': 1638, 'rendirse': 1696, 'preocupes': 1559, 'haber': 904, 'lugar': 1180, 'compren': 395, 'cerca': 314, 'criar': 477, 'hija': 954, 'aquí': 109, 'cuentas': 498, 'cuál': 511, 'misión': 1273, 'lana': 1100, 'mira': 1267, 'montar': 1286, 'solo': 1850, 'llamara': 1140, 'pidiera': 1500, 'ayuda': 155, 'slater': 1845, 'sangre': 1773, 'falsa': 792, 'pena': 1471, 'da': 525, 'pobre': 1519, 'literalmente': 1133, 'ver': 2043, 'sólo': 1899, 'disfrutando': 632, 'sarcasmo': 1777, 'debo': 548, 'buscar': 233, 'excusas': 782, 'guardaré': 895, 'después': 602, 'sospechábamos': 1856, 'tres': 1980, 'dólares': 667, 'suelo': 1877, 'mire': 1269, 'uy': 2007, 'haciendo': 927, 'simulacro': 1834, 'poniendo': 1538, 'prueba': 1592, 'buen': 221, 'trabajo': 1963, 'agotado': 43, 'único': 2114, 'hace': 917, 'subir': 1871, 'compasión': 382, 'vuelta': 2088, 'campo': 272, 'miren': 1270, 'corbata': 443, 'cordón': 446, 'hermosa': 947, 'stan': 1861, 'muchas': 1294, 'decías': 559, 'acerca': 25, 'vas': 2018, 'mal': 1192, 'equipo': 722, 'delantera': 571, 'tan': 1903, 'ofensiva': 1372, 'asustó': 132, 'idiotas': 984, 'hijos': 956, 'puta': 1611, 'conmigo': 412, 'presidente': 1563, 'brasil': 209, 'esposa': 759, 'mirad': 1268, 'sucia': 1873, 'toda': 1944, 'todas': 1945, 'producen': 1574, 'accidentes': 21, 'domésticos': 651, 'méxicano': 1305, 'negro': 1326, 'bueno': 224, 'gracias': 878, 'ayudarme': 156, 'pillar': 1507, 'disco': 628, 'rusos': 1730, 'van': 2015, 'dar': 533, 'pasta': 1445, 'ancha': 85, 'importante': 996, 'isis': 1042, 'podemos': 1522, 'enfestar': 699, 'chupe': 327, 'hacer': 920, 'carambola': 290, 'doctor': 649, 'habernos': 906, 'ido': 985, 'buena': 222, 'montado': 1285, 'dispararan': 637, 'oooo': 1391, 'recuerdo': 1674, 'vez': 2056, 'podido': 1524, 'acabado': 13, 'visto': 2076, 'sopearte': 1854, 'veinte': 2026, 'copas': 441, 'haría': 941, 'falta': 794, 'meneara': 1242, 'cierto': 342, 'eric': 724, 'debería': 543, 'mujer': 1298, 'malo': 1201, 'idiota': 983, 'paquistaní': 1419, 'oído': 1400, 'pienso': 1504, 'mover': 1289, 'pongas': 1537, 'verdad': 2045, 'seguro': 1793, 'secuestrado': 1785, 'terraza': 1926, 'iba': 977, 'excesivo': 778, 'acercarse': 26, 'tendrémos': 1916, 'esfuerzo': 740, 'centro': 313, 'cremoso': 473, 'adentro': 37, 'encuentra': 694, 'amor': 82, 'felizidad': 809, 'debemos': 541, 'usar': 2001, 'jugadores': 1075, 'amables': 73, 'compasivos': 381, 'mundo': 1302, 'sabrán': 1741, 'caemos': 252, 'fácilmente': 847, 'preocupa': 1554, 'usado': 1998, 'palabra': 1411, 'vida': 2060, 'mesas': 1251, 'practicar': 1546, 'lunes': 1182, 'luego': 1179, 'victoria': 2059, 'cállaos': 517, 'dos': 653, 'aviso': 150, 'navegantes': 1311, 'grande': 881, 'hola': 962, 'mexicano': 1254, 'jóven': 1084, 'torpe': 1959, 'bellici': 187, 'dijo': 621, 'derrotar': 583, 'duró': 661, 'casi': 305, 'día': 662, 'vale': 2011, 'quisiera': 1645, 'digo': 617, 'estudo': 769, 'mercado': 1249, 'tb': 1909, 'alias': 62, 'ciberosíto': 332, 'peluche': 1469, 'hermana': 945, 'pierde': 1505, 'creía': 476, 'racista': 1653, 'seis': 1794, 'mil': 1261, 'pedir': 1459, 'refuerzos': 1685, 'crucial': 480, 'asta': 128, 'ayer': 154, 'baruk': 171, 'ciber': 331, 'espía': 761, 'inteligencia': 1016, 'quere': 1628, 'pasarse': 1443, 'bando': 168, 'abuelo': 10, 'mandaste': 1206, 'seguiste': 1790, 'futbol': 843, 'padre': 1404, 'preocupado': 1557, 'comenzó': 371, 'movimiento': 1290, 'reformar': 1681, 'cientos': 338, 'seguidores': 1788, 'david': 538, 'key': 1090, 'keith': 1087, 'kenny': 1089, 'niño': 1338, 'problema': 1572, 'sistema': 1841, 'equivocado': 723, 'fundimos': 840, 'envían': 719, 'lugares': 1181, 'compra': 388, 'ojalá': 1385, 'siguiera': 1833, 'podría': 1525, 'parado': 1423, 'balas': 166, 'fin': 812, 'ocho': 1362, 'incluida': 1003, 'hombro': 964, 'irme': 1040, 'descortéz': 589, 'negamos': 1321, 'verdadero': 2047, 'valor': 2013, 'joyas': 1066, 'realidad': 1663, 'mai': 1190, 'pai': 1410, 'pachata': 1402, 'hai': 935, 'descubra': 591, 'tejido': 1911, 'oso': 1396, 'cubrirlo': 494, 'improvisaciones': 1001, 'hacerte': 924, 'verbo': 2044, 'consiento': 421, 'fastidiarse': 800, 'jefe': 1045, 'pueda': 1598, 'romper': 1726, 'maquillaron': 1214, 'cia': 330, 'queda': 1620, 'realista': 1664, 'corbatas': 444, 'moda': 1278, 'suerte': 1878, 'tenerla': 1918, 'decía': 558, 'amaba': 70, 'perro': 1491, 'hico': 952, 'feliz': 808, 'siempre': 1819, 'murió': 1303, 'quise': 1644, 'ponerme': 1534, 'demasiado': 572, 'triste': 1981, 'pensé': 1478, 'quedaría': 1624, 'caríta': 302, 'alegre': 54, 'cara': 287, 'villy': 2068, 'bolsa': 201, 'ropa': 1729, 'pañales': 1457, 'nevera': 1329, 'leche': 1107, 'materna': 1228, 'excuso': 783, 'tí': 1986, 'gente': 866, 'escuchen': 735, 'deben': 542, 'saber': 1738, 'super': 1888, 'cada': 250, 'país': 1456, 'jugarlo': 1078, 'traidor': 1970, 'hijo': 955, 'beba': 177, 'trece': 1978, 'archivo': 112, 'servidor': 1807, 'principal': 1570, 'servicio': 1805, 'secreto': 1783, 'argentio': 115, 'apuntado': 105, 'pistola': 1514, 'arrancó': 121, 'momento': 1283, 'cuánto': 514, 'pagó': 1409, 'hecho': 943, 'encragaré': 693, 'actor': 31, 'niñera': 1337, 'pasado': 1439, 'vacía': 2009, 'buenas': 223, 'necesitamos': 1316, 'jugo': 1079, 'butters': 236, 'amenaza': 75, 'implicaré': 993, 'dispararé': 640, 'genitalios': 865, 'sentaré': 1798, 'beber': 181, 'jerez': 1046, 'jamontillado': 1044, 'mientras': 1258, 'desangras': 585, 'ciertamente': 341, 'existen': 785, 'estadísticas': 765, 'interesantes': 1027, 'dan': 531, 'preocupados': 1558, 'relación': 1691, 'directa': 625, 'futból': 844, 'traumas': 1977, 'cráneo': 482, 'casa': 303, 'segura': 1791, 'bebés': 185, 'pam': 1413, 'hmm': 960, 'seguimos': 1789, 'señor': 1813, 'escuche': 734, 'sé': 1895, 'tremendo': 1979, 'jugador': 1074, 'cosquillas': 454, 'ríe': 1733, 'carácter': 301, 'féliz': 848, 'contentísimo': 428, 'mejoró': 1240, 'contar': 425, 'dices': 612, 'muchachos': 1293, 'posan': 1543, 'maldíta': 1196, 'foto': 820, 'quedará': 1622, 'memoria': 1241, 'aha': 48, 'necesitas': 1318, 'quieres': 1639, 'llamar': 1139, 'vienes': 2065, 'pedirnos': 1460, 'quiero': 1640, 'bebas': 178, 'pidió': 1501, 'vinieramos': 2070, 'rescatarte': 1699, 'vamos': 2014, 'patear': 1452, 'jugadas': 1073, 'especiales': 746, 'importantes': 997, 'quiere': 1637, 'luces': 1178, 'kane': 1085, 'sino': 1837, 'cuarto': 489, 'baño': 176, 'cansamos': 280, 'niños': 1339, 'golpeen': 873, 'lastimen': 1103, 'hagámos': 933, 'oficial': 1375, 'escuelas': 737, 'azotea': 160, 'primer': 1566, 'sitio': 1842, 'buscarán': 234, 'puñalara': 1615, 'espalda': 743, 'harás': 939, 'ninguna': 1332, 'tontería': 1956, 'venganza': 2035, 'abra': 2, 'puerta': 1604, 'marchando': 1218, 'empanada': 682, 'familiar': 796, 'martín': 1221, 'decírselo': 560, 'jackson': 1043, 'cree': 467, 'auto': 143, 'regresando': 1689, 'esperamos': 750, 'alegra': 53, 'poder': 1523, 'recibir': 1669, 'comisionato': 377, 'nfl': 1330, 'roger': 1723, 'goodell': 875, 'aburato': 11, 'conmociones': 414, 'año': 162, 'maneja': 1207, 'liga': 1122, 'ibas': 979, 'convertir': 437, 'robot': 1720, 'unas': 1993, 'veces': 2025, 'rebalsa': 1666, 'intenten': 1024, 'agradecernos': 44, 'clavos': 353, 'decirémos': 557, 'agradezca': 46, 'hicimos': 951, 'correcto': 448, 'sonreirémos': 1853, 'aj': 52, 'pasa': 1438, 'vayas': 2021, 'loco': 1174, 'coños': 459, 'acuerdo': 35, 'acuerdas': 34, 'arrancaste': 120, 'kyle': 1093, 'viernes': 2066, 'noche': 1340, 'aqui': 108, 'todavía': 1946, 'maldítas': 1197, 'animadoras': 88, 'denver': 578, 'regalo': 1687, 'costó': 456, 'dinero': 622, 'gusta': 897, 'aprovechen': 100, 'india': 1005, 'nunca': 1356, 'aprendimos': 96, 'negó': 1327, 'rimó': 1714, 'proveyó': 1587, 'lleno': 1157, 'atleta': 135, 'necesita': 1315, 'compromiso': 398, 'camaradería': 266, 'viene': 2064, 'vase': 2019, 'litro': 1134, 'compañeros': 384, 'inventaron': 1032, 'llevara': 1164, 'trajera': 1971, 'monstruo': 1284, 'sido': 1818, 'aplauso': 93, 'volveré': 2082, 'usarla': 2002, 'cuesta': 499, 'cinquenta': 347, 'dijeron': 619, 'canal': 276, 'ventas': 2041, 'cámara': 519, 'acorazada': 30, 'reforzada': 1682, 'acceso': 20, 'mediante': 1233, 'tarjeta': 1908, 'escáneo': 739, 'retina': 1705, 'último': 2112, 'piso': 1511, 'sede': 1786, 'fuertemente': 833, 'custodiada': 509, 'puntos': 1608, 'fuerzas': 834, 'órdenes': 2110, 'disparar': 636, 'matar': 1224, 'persona': 1492, 'autorizada': 144, 'fresco': 829, 'pensaba': 1473, 'romperé': 1727, 'cristal': 478, 'porcuro': 1540, 'sorpresas': 1855, 'cero': 316, 'stillers': 1865, 'debe': 540, 'sentir': 1800, 'ganador': 850, 'sácale': 1894, 'ojos': 1387, 'supongo': 1890, 'tarde': 1907, 'salirse': 1766, 'stern': 1864, 'poker': 1529, 'violencia': 2073, 'cheryl': 320, 'única': 2113, 'frase': 825, 'cabrón': 249, 'violador': 2071, 'cabras': 246, 'deseado': 592, 'regalado': 1686, 'bendíto': 189, 'saca': 1746, 'necesito': 1320, 'cuatrao': 491, 'finde': 813, 'gaylandia': 859, 'sabías': 1745, 'mentía': 1247, 'olvídense': 1390, 'libre': 1116, 'mañana': 1232, 'siquiera': 1839, 'entendemos': 705, 'juega': 1068, 'sucios': 1874, 'traicioneros': 1968, 'dejarme': 569, 'robaron': 1718, 'fórmula': 849, 'intentaron': 1022, 'joderme': 1058, 'significa': 1827, 'sacas': 1753, 'lógica': 1186, 'llamo': 1149, 'resuelven': 1702, 'topo': 1957, 'lleves': 1170, 'franco': 824, 'ésa': 2108, 'llevas': 1168, 'dentro': 577, 'saltar': 1768, 'llevo': 1171, 'paracaigas': 1422, 'acepta': 22, 'idea': 980, 'paso': 1444, 'cúbreme': 524, 'doy': 654, 'quince': 1643, 'esprema': 760, 'hablo': 916, 'parar': 1425, 'indicado': 1007, 'dije': 618, 'ocurrió': 1370, 'venimos': 2037, 'cosas': 453, 'cogerlas': 360, 'maní': 1213, 'sueño': 1879, 'chica': 321, 'puesto': 1606, 'pensarlo': 1477, 'culos': 506, 'ganas': 853, 'salto': 1769, 'oy': 1398, 'maravilloso': 1215, 'pondría': 1531, 'contento': 427, 'quiénes': 1650, 'divertiste': 645, 'dícelo': 664, 'explicar': 787, 'entiendo': 709, 'alguien': 56, 'sinceridad': 1835, 'hablarémos': 911, 'crezcas': 475, 'llevar': 1163, 'saco': 1755, 'símbolo': 1896, 'dólar': 666, 'hablando': 909, 'cago': 256, 'significaba': 1828, 've': 2022, 'aquella': 107, 'burdel': 227, 'carrachi': 295, 'pasó': 1448, 'repente': 1697, 'malísima': 1203, 'peor': 1479, 'quería': 1631, 'podía': 1528, 'fiarme': 810, 'quidaras': 1634, 'controles': 433, 'joder': 1056, 'dudo': 656, 'bourbon': 208, 'aptece': 102, 'cola': 363, 'menos': 1243, 'malpinas': 1202, 'cielos': 335, 'algúno': 60, 'ocurrir': 1369, 'semejante': 1797, 'podríamos': 1526, 'dejarlo': 568, 'adreza': 39, 'quienquiera': 1635, 'preguntado': 1551, 'golpe': 872, 'recuerdenlo': 1673, 'práctica': 1594, 'kilítos': 1091, 'literalment': 1132, 'miles': 1262, 'darle': 534, 'homófoba': 966, 'ofrecer': 1377, 'copa': 440, 'tequila': 1919, 'licor': 1120, 'café': 253, 'minuto': 1265, 'pásalo': 1617, 'saluda': 1770, 'animal': 89, 'puñalada': 1614, 'investigaciones': 1035, 'determinen': 604, 'efectos': 673, 'hacemos': 918, 'acompañar': 29, 'familia': 795, 'cena': 310, 'dio': 623, 'costoso': 455, 'aceptarlo': 24, 'prefiero': 1549, 'efectivo': 672, 'bolas': 200, 'chúpalas': 328, 'juegas': 1069, 'duro': 660, 'bebida': 183, 'deportiva': 582, 'deportes': 581, 'hoy': 972, 'amable': 72, 'mejora': 1237, 'desempeño': 594, 'buenos': 225, 'sentimientos': 1799, 'gentil': 867, 'rayo': 1658, 'sol': 1848, 'sirven': 1840, 'enviarlo': 717, 'fundidor': 839, 'ocupe': 1365, 'fundir': 841, 'quizás': 1648, 'gane': 854, 'vieja': 2061, 'mismo': 1275, 'perdidio': 1482, 'peso': 1496, 'llames': 1148, 'cabrones': 248, 'violadores': 2072, 'pelo': 1467, 'comodines': 378, 'herir': 944, 'viviría': 2078, 'padres': 1405, 'refiere': 1679, 'nueve': 1353, 'envidia': 718, 'vergón': 2048, 'parió': 1433, 'ábrelo': 2104, 'armado': 117, 'procura': 1573, 'parecerse': 1429, 'presidencia': 1562, 'parezcas': 1432, 'señora': 1814, 'gordado': 877, 'sufras': 1882, 'jolín': 1063, 'sujetes': 1885, 'carteles': 298, 'compramos': 390, 'compran': 391, 'porquería': 1541, 'sumamos': 1887, 'canales': 277, 'dividimos': 646, 'viejos': 2063, 'mente': 1244, 'harémos': 940, 'siguiente': 1832, 'consultemos': 423, 'cuija': 504, 'cabeza': 243, 'pagar': 1406, 'pidiendo': 1499, 'maldita': 1194, 'retribución': 1707, 'maldito': 1195, 'busco': 235, 'canguro': 278, 'identificación': 982, 'llama': 1136, 'operación': 1392, 'quete': 1633, 'gustaría': 901, 'hablar': 910, 'nueva': 1351, 'regla': 1688, 'prohibe': 1579, 'patadas': 1449, 'aún': 164, 'tomemos': 1951, 'fondos': 817, 'investigación': 1036, 'cáncer': 521, 'enfermedades': 698, 'genéticas': 869, 'hagamos': 930, 'comerciales': 373, 'digan': 616, 'espectadores': 747, 'concozco': 402, 'tal': 1902, 'provocar': 1591, 'feas': 804, 'enojemos': 702, 'gruño': 888, 'negativo': 1322, 'creerlo': 470, 'eleve': 678, 'niveles': 1335, 'humanidad': 975, 'bondad': 202, 'majo': 1191, 'bastante': 173, 'tirarte': 1938, 'acero': 27, 'comprenlo': 397, 'tomen': 1952, 'vuelve': 2091, 'poner': 1533, 'siete': 1824, 'portado': 1542, 'dado': 527, 'dispararme': 638, 'caso': 306, 'parecen': 1428, 'insultos': 1015, 'multiracial': 1301, 'atención': 134, 'gritan': 884, 'encargados': 690, 'pegas': 1462, 'auténticos': 145, 'disculpas': 629, 'médica': 1304, 'urgencia': 1996, 'culpa': 507, 'cállate': 518, 'sacad': 1747, 'dejadme': 564, 'resto': 1701, 'listo': 1130, 'aprovecha': 97, 'precios': 1548, 'bajos': 165, 'igual': 986, 'sterling': 1863, 'stanley': 1862, 'busca': 230, 'increíble': 1004, 'nadie': 1308, 'sale': 1761, 'lastimado': 1102, 'aprendiendo': 95, 'lecciones': 1106, 'valiosas': 2012, 'abrazos': 8, 'seguridad': 1792, 'trata': 1976, 'necesario': 1313, 'bigotón': 194, 'cutre': 510, 'conversación': 436, 'sagrado': 1757, 'ayudarémos': 157, 'pequeña': 1480, 'cin': 344, 'cuarenta': 488, 'minutos': 1266, 'quién': 1649, 'gustof': 903, 'llamas': 1144, 'di': 608, 'cartman': 299, 'calle': 262, 'sigues': 1831, 'manos': 1211, 'heróico': 950, 'guardas': 896, 'jodemos': 1054, 'jodiendo': 1059, 'botellitas': 206, 'refiero': 1680, 'cuidar': 503, 'masticaras': 1222, 'primero': 1568, 'escupieras': 738, 'boca': 199, 'cierra': 339, 'pico': 1498, 'ponerte': 1535, 'tranquila': 1972, 'beberé': 182, 'ausencia': 142, 'tomo': 1953, 'cíborg': 522, 'clave': 352, 'pipa': 1510, 'hombre': 963, 'siglos': 1826, 'alquimistas': 64, 'intentado': 1019, 'crear': 462, 'pudiera': 1596, 'crearla': 463, 'volvería': 2083, 'rico': 1711, 'equación': 721, 'química': 1651, 'frente': 828, 'skymal': 1843, 'aunque': 141, 'hueca': 973, 'resulta': 1703, 'conocéis': 418, 'cuestión': 501, 'nuevos': 1355, 'tiempos': 1931, 'ciencia': 337, 'pocos': 1521, 'comprendemos': 396, 'mamada': 1204, 'confiar': 407, 'refería': 1678, 'volar': 2079, 'llega': 1154, 'estrella': 766, 'estó': 771, 'resolverlo': 1700, 'grupo': 887, 'negocio': 1324, 'botiquín': 207, 'barra': 170, 'deberías': 546, 'edad': 671, 'molesta': 1282, 'verás': 2052, 'pasarlo': 1442, 'leccion': 1105, 'llamado': 1137, 'contrario': 431, 'burbón': 226, 'fastidies': 801, 'ay': 153, 'tragado': 1967, 'marcador': 1217, 'stines': 1866, 'avanzan': 146, 'detrás': 605, 'deja': 563, 'gritar': 885, 'dense': 576, 'palmadas': 1412, 'espaldas': 744, 'interior': 1028, 'hablaste': 913, 'creemos': 468, 'decirme': 555, 'lleva': 1158, 'encima': 691, 'vaya': 2020, 'ridículo': 1713, 'gustan': 898, 'sostenes': 1857, 'mamá': 1205, 'jodía': 1062, 'matemática': 1227, 'disfrutar': 633, 'dame': 529, 'señal': 1811, 'pondré': 1530, 'tío': 1987, 'salid': 1763, 'corriendo': 450, 'buscad': 231, 'ponedlas': 1532, 'salvo': 1772, 'lleguen': 1156, 'jilibollas': 1049, 'informático': 1010, 'identidad': 981, 'verdadera': 2046, 'agentes': 42, 'operan': 1393, 'sudamérica': 1875, 'argentina': 114, 'usa': 1997, 'presionar': 1564, 'amenazar': 77, 'contárselo': 434, 'exagera': 776, 'enfermedad': 697, 'muchísimo': 1296, 'tirado': 1937, 'cadena': 251, 'comienzan': 375, 'burlarse': 228, 'siendo': 1820, 'pareczo': 1431, 'gorda': 876, 'bikini': 195, 'florecente': 815, 'playa': 1518, 'té': 1984, 'vendría': 2033, 'miel': 1256, 'limón': 1125, 'vuelvas': 2090, 'asustar': 131, 'disparan': 635, 'llévanos': 1173, 'garage': 855, 'llevaré': 1166, 'estabáis': 764, 'conchabados': 401, 'comenzar': 370, 'reunión': 1708, 'maestros': 1189, 'alguién': 57, 'asunto': 129, 'pendiente': 1472, 'normal': 1343, 'hmmm': 961, 'saldrémos': 1760, 'norths': 1345, 'vestidos': 2055, 'south': 1860, 'park': 1434, 'sólidas': 1897, 'averiguarémos': 148, 'domingo': 650, 'pago': 1407, 'nieto': 1331, 'ven': 2028, 'crecido': 465, 'hora': 967, 'llamativo': 1145, 'impresionar': 998, 'muchachas': 1292, 'echar': 669, 'ojo': 1386, 'pasando': 1440, 'deberían': 545, 'avergonzarse': 147, 'explotan': 788, 'atreven': 138, 'aprovecharse': 99, 'afortunados': 41, 'primera': 1567, 'línea': 1185, 'cubrirá': 495, 'huecos': 974, 'díle': 665, 'uniformes': 1994, 'clyde': 356, 'token': 1947, 'abracen': 3, 'caray': 291, 'fallecer': 791, 'tutora': 1983, 'legal': 1109, 'pastel': 1446, 'quizá': 1647, 'pan': 1414, 'definitivamente': 562, 'horneando': 970, 'hacéis': 928, 'esperé': 758, 'ganando': 852, 'amigos': 79, 'rancasteis': 1654, 'cuenta': 496, 'barbaridades': 169, 'realmente': 1665, 'contexto': 429, 'prácticamente': 1595, 'medio': 1234, 'cañero': 309, 'amenazado': 76, 'encantan': 687, 'noches': 1341, 'empezar': 683, 'guardar': 892, 'pistol': 1513, 'caja': 257, 'fuerte': 832, 'acabe': 15, 'partida': 1436, 'saben': 1737, 'dispararon': 639, 'felices': 805, 'hablemos': 915, 'decirle': 553, 'cosa': 452, 'mate': 1226, 'golpes': 874, 'hable': 914, 'información': 1009, 'sacará': 1752, 'hagámoslo': 934, 'abrochame': 9, 'sostén': 1858, 'cambios': 270, 'bordado': 204, 'traicionó': 1969, 'aspirante': 127, 'cantante': 281, 'country': 457, 'mentirosa': 1245, 'freelance': 827, 'haz': 942, 'sacarlo': 1750, 'capital': 285, 'rojo': 1724, 'pensamientos': 1474, 'oblígame': 1359, 'atrapa': 136, 'balón': 167, 'meta': 1252, 'uuh': 2006, 'cal': 258, 'espere': 753, 'ex': 775, 'entrando': 711, 'maritin': 1219, 'gregors': 883, 'defensor': 561, 'jim': 1050, 'harrys': 937, 'pantalones': 1415, 'tobillos': 1942, 'avisárselo': 151, 'excelente': 777, 'mike': 1260, 'tetfield': 1929, 'imaginario': 989, 'dejarle': 567, 'ciego': 333, 'pobrecito': 1520, 'provienen': 1589, 'felicidad': 806, 'intentan': 1020, 'paralelo': 1424, 'virgen': 2074, 'escansará': 727, 'esclavizados': 729, 'skynet': 1844, 'fuego': 831, 'ejemplo': 675, 'guardadas': 891, 'placer': 1515, 'volver': 2081, 'verte': 2050, 'quedaríamos': 1625, 'cenar': 311, 'comida': 374, 'provoca': 1590, 'diarrea': 610, 'sharon': 1815, 'lamentamos': 1098, 'queremos': 1629, 'sigas': 1825, 'jugando': 1076, 'algún': 59, 'terminado': 1921, 'archerizar': 111, 'menudo': 1248, 'sabía': 1743, 'pasar': 1441, 'latino': 1104, 'colarnos': 364, 'duelen': 657, 'brazos': 214, 'papás': 1418, 'cremosidad': 472, 'funcionará': 838, 'puñado': 1613, 'vender': 2031, 'tecnología': 1910, 'militar': 1263, 'confidencial': 408, 'chinos': 324, 'líamos': 1183, 'última': 2111, 'trabajamos': 1962, 'juntos': 1081, 'marca': 1216, 'mayor': 1231, 'altura': 66, 'profesionales': 1577, 'invito': 1037, 'lamernos': 1099, 'pelotas': 1468, 'miente': 1257, 'venido': 2036, 'ley': 1113, 'verla': 2049, 'además': 36, 'pegado': 1461, 'tiro': 1940, 'desaparecido': 586, 'llamemos': 1146, 'decirles': 554, 'retiramos': 1706, 'wohoo': 2098, 'confundirme': 411, 'rayos': 1659, 'terríble': 1927, 'joden': 1055, 'mujeres': 1299, 'asiáticas': 126, 'vagamente': 2010, 'matas': 1225, 'sientes': 1821, 'cálido': 516, 'compasivo': 380, 'transferencia': 1974, 'prestame': 1565, 'camisa': 271, 'hagas': 931, 'llamen': 1147, 'división': 647, 'tercera': 1920, 'aliado': 61, 'tranquilo': 1973, 'testamento': 1928, 'notaria': 1347, 'abogada': 1, 'laboralista': 1095, 'proteger': 1585, 'ningún': 1334, 'confianza': 406, 'caballeros': 241, 'confunden': 409, 'hospitalidad': 971, 'debilidad': 547, 'precio': 1547, 'negociar': 1323, 'hacerlo': 922, 'socios': 1846, 'terminar': 1922, 'ray': 1657, 'cánada': 520, 'funciona': 836, 'estúpido': 772, 'salir': 1765, 'programa': 1578, 'conduce': 403, 'veamos': 2023, 'regresemos': 1690, 'amigo': 78, 'encantará': 688, 'llamamos': 1138, 'tono': 1955, 'irónico': 1041, 'robado': 1716, 'amo': 81, 'emocionante': 681, 'extra': 789, 'botella': 205, 'gran': 880, 'sábado': 1893, 'mani': 1209, 'bébe': 239, 'promoción': 1582, 'licencia': 1119, 'conducir': 404, 'vuelvo': 2092, 'llamarás': 1142, 'queríamos': 1632, 'china': 323, 'llevan': 1161, 'años': 163, 'estudiando': 768, 'propulsor': 1584, 'antimatéria': 90, 'demostrando': 574, 'lograr': 1176, 'terminó': 1925, 'líderes': 1184, 'washington': 2097, 'recuerda': 1671, 'hablamos': 908, 'relleno': 1694, 'crece': 464, 'permanente': 1488, 'craqueoso': 461, 'encontrarán': 692, 'yurta': 2102, 'maldíto': 1198, 'multicampo': 1300, 'siesta': 1823, 'adiós': 38, 'robó': 1722, 'estableció': 763, 'europa': 773, 'traficante': 1966, 'perfil': 1487, 'caballero': 240, 'entiende': 707, 'juro': 1082, 'vuelva': 2089, 'pillarte': 1508, 'deseas': 593, 'cielo': 334, 'santo': 1775, 'encantaría': 689, 'ancianos': 86, 'linda': 1126, 'corbatíta': 445, 'cilo': 343, 'televisión': 1912, 'mmm': 1277, 'guapa': 890, 'relleníta': 1695, 'entregarte': 713, 'cascos': 304, 'aluminio': 67, 'futuro': 845, 'bárbaros': 237, 'básicamente': 238, 'matáis': 1230, 'shelly': 1816, 'alguna': 58, 'conté': 435, 'pastor': 1447, 'escocés': 730, 'paties': 1453, 'levanta': 1111, 'puto': 1612, 'cartél': 300, 'quedarás': 1623, 'habitación': 907, 'pensando': 1475, 'acabas': 14, 'quiera': 1636, 'modificando': 1279, 'puedas': 1599, 'pensar': 1476, 'bebemos': 180, 'espermas': 755, 'homofóbico': 965, 'chovinista': 326, 'completamete': 386, 'inmaduro': 1013, 'pregunta': 1550, 'cantidades': 282, 'enormes': 703, 'mostrar': 1287, 'apoyo': 94, 'modo': 1280, 'mejorarlo': 1239, 'usan': 1999, 'horas': 968, 'cierrate': 340, 'generoso': 860, 'producto': 1575, 'número': 1357, 'imponentes': 994, 'aretes': 113, 'faux': 802, 'genuinos': 868, 'cuatorce': 490, 'safiros': 1756, 'ochenta': 1361, 'francesa': 823, 'pronuncia': 1583, 'perstigioso': 1494, 'cuestan': 500, 'millones': 1264, 'vendemos': 2029, 'teléfonos': 1913, 'iluminarse': 988, 'comprador': 389, 'pongamoslo': 1536, 'gusto': 902, 'comprará': 394, 'paquistán': 1420, 'interpretar': 1030, 'himno': 957, 'bienvenidos': 193, 'inaugural': 1002, 'nacional': 1307, 'enfrentamiento': 700, 'riders': 1712, 'oakland': 1358, 'pateamos': 1451, 'protesto': 1586, 'término': 1985, 'claramente': 348, 'preocupación': 1555, 'advierto': 40, 'peligroso': 1466, 'figuro': 811, 'mato': 1229, 'gicante': 870, 'cambiará': 268, 'selector': 1795, 'mega': 1235, 'preocupada': 1556, 'llamaría': 1143, 'éxito': 2109, 'relativo': 1693, 'cuentan': 497, 'cambio': 269, 'cubierto': 493, 'conductos': 405, 'aire': 50, 'siguen': 1830, 'gas': 856, 'nervioso': 1328, 'mirándolo': 1272, 'siquera': 1838, 'hacen': 919, 'burrito': 229, 'capas': 283, 'basa': 172, 'camradería': 273, 'miro': 1271, 'vestidor': 2054, 'veo': 2042, 'compasíbles': 383, 'conocido': 417, 'ken': 1088, 'cualquiera': 486, 'abrazas': 7, 'ir': 1038, 'armería': 119, 'véte': 2095, 'leído': 1114, 'libros': 1118, 'club': 355, 'canguros': 279, 'blindado': 198, 'sigo': 1829, 'cargar': 293, 'aubuelo': 140, 'gastaste': 858, 'streling': 1867, 'ascani': 123, 'motél': 1288, 'váter': 2094, 'cargando': 292, 'sevidor': 1810, 'distinguir': 643, 'craig': 460, 'apuesto': 103, 'extrañará': 790, 'perder': 1481, 'bebe': 179, 'ofrezco': 1380, 'falsos': 793, 'darte': 536, 'carajos': 289, 'semana': 1796, 'acaba': 12, 'pido': 1502, 'desintoxicándose': 596, 'prometer': 1580, 'igualíto': 987, 'cristi': 479, 'toquecíto': 1958, 'claudia': 350, 'tienda': 1932, 'asiática': 125, 'joderla': 1057, 'jodedor': 1053, 'broma': 216, 'días': 663, 'libres': 1117, 'anuales': 91, 'suelen': 1876, 'dejado': 565, 'recuperar': 1676, 'odia': 1371, 'partir': 1437, 'capitán': 286, 'rondie': 1728, 'ayúdame': 159, 'quede': 1626, 'licores': 1121, 'veas': 2024, 'empleado': 686, 'vendrá': 2032, 'avisarme': 149, 'secas': 1782, 'perdona': 1484, 'ves': 2053, 'vivian': 2077, 'comunicamos': 399, 'representante': 1698, 'saludarás': 1771, 'comprar': 392, 'felicitaciones': 807, 'robo': 1719, 'cabrearme': 247, 'rato': 1656, 'recuerdas': 1672, 'crédito': 483, 'justo': 1083, 'payton': 1455, 'mejorar': 1238, 'sabor': 1740, 'humo': 976, 'cloro': 354, 'réplica': 1732, 'rey': 1710, 'enrique': 704, 'grite': 886, 'perdido': 1483, 'intente': 1023, 'patos': 1454, 'jodiéndola': 1060, 'sabe': 1735, 'dobles': 648, 'cartas': 296, 'sangrientas': 1774, 'jordana': 1064, 'laboral': 1094, 'sesiones': 1808, 'interrupciones': 1031, 'cagar': 255, 'excusa': 780, 'escoria': 732, 'víctimas': 2096, 'venta': 2039, 'descansan': 587, 'mansiones': 1212, 'ganan': 851, 'billones': 196, 'cinco': 345, 'hacerle': 921, 'pruebas': 1593, 'reemplazar': 1677, 'atrape': 137, 'correrá': 449, 'abrazan': 5, 'sujeto': 1886, 'timarnos': 1933, 'lado': 1097, 'traer': 1965, 'cerveza': 319, 'varias': 2016, 'sacamos': 1749, 'secuencia': 1784, 'datos': 537, 'esmeralda': 741, 'preguntas': 1552, 'sentiría': 1801, 'recuerdos': 1675, 'ninguno': 1333, 'familiares': 797, 'sufriendo': 1883, 'alzheimer': 69, 'comisionado': 376, 'entusiasma': 716, 'joventud': 1065, 'tradicional': 1964, 'detenernos': 603, 'cambiar': 267, 'demos': 573, 'bienvenida': 191, 'hambre': 936, 'tipi': 1935, 'bienvenido': 192, 'despeto': 599, 'verá': 2051, 'evitar': 774, 'intermediarios': 1029, 'comprarles': 393, 'directamente': 626, 'puñalarme': 1616, 'empiezo': 685, 'cabra': 245, 'tíos': 1988, 'imbéciles': 991, 'acaso': 18, 'fanático': 798, 'temas': 1914, 'prometo': 1581, 'piensas': 1503, 'seaís': 1781, 'dama': 528, 'brasilia': 211, 'visita': 2075, 'américa': 83, 'voluntad': 2080, 'sedes': 1787, 'servicios': 1806, 'trabaja': 1961, 'tapadera': 1906, 'clavado': 351, 'llamarlos': 1141, 'tantos': 1904, 'cuanto': 487, 'escapan': 728, 'durmiendo': 659, 'especial': 745, 'sueños': 1880, 'hermosos': 948, 'despierto': 600, 'salió': 1767, 'aseguro': 124, 'guardarla': 893, 'quedo': 1627, 'abastecido': 0, 'desangrando': 584, 'callados': 260, 'esperma': 754, 'timó': 1934, 'lleve': 1169, 'acceder': 19, 'ordenador': 1394, 'central': 312, 'escuela': 736, 'peligrosas': 1465, 'mali': 1199, 'deciendo': 551, 'lindas': 1127, 'malin': 1200, 'woodly': 2100, 'entrega': 712, 'árbitro': 2105, 'decide': 549, 'señala': 1812, 'punto': 1607, 'gustarán': 900, 'elección': 676, 'mes': 1250, 'strip': 1868, 'salchicha': 1758, 'dura': 658, 'flecha': 814, 'podrías': 1527, 'conseguido': 419, 'venir': 2038, 'collar': 365, 'esqueleto': 762, 'acabó': 17, 'olvidarme': 1388, 'personas': 1493, 'juegen': 1070, 'terminen': 1924, 'abrazar': 6, 'lindo': 1128, 'confundido': 410, 'cojones': 361, 'cogerla': 359, 'oferta': 1373, 'acabo': 16, 'despechada': 597, 'despeché': 598, 'vimos': 2069, 'bromista': 217, 'real': 1661, 'entiendes': 708, 'sola': 1849, 'jodo': 1061, 'cuatro': 492, 'querré': 1630, 'tóma': 1989, 'actos': 32, 'estudian': 767, 'cojínes': 362, 'sofá': 1847, 'sufro': 1884, 'conmoción': 415, 'infierno': 1008, 'conoce': 416, 'ira': 1039, 'cruzado': 481, 'río': 1734, 'cerramos': 318, 'aquel': 106, 'tipo': 1936, 'brújula': 220, 'amistad': 80, 'área': 2107, 'indica': 1006, 'apunta': 104, 'hacia': 926, 'arriba': 122, 'jesús': 1047, 'corazón': 442, 'emociona': 680, 'formar': 818, 'parte': 1435, 'llevaría': 1167, 'recargando': 1667, 'voz': 2087, 'alta': 65, 'fácil': 846, 'viejo': 2062, 'patches': 1450, 'usas': 2003, 'sacaste': 1754, 'supergay': 1889, 'pagué': 1408, 'ocurren': 1366, 'cuántas': 513, 'tocado': 1943, 'cabecíta': 242, 'castaña': 307, 'molar': 1281, 'sesos': 1809, 'escaleras': 726, 'color': 368, 'haberle': 905, 'contado': 424, 'despistar': 601, 'calor': 263, 'eráis': 725, 'hermosura': 949, 'toman': 1948, 'fotos': 821, 'escolares': 731, 'culpable': 508, 'intención': 1017, 'terminarse': 1923, 'cuándo': 512, 'ello': 679, 'deje': 570, 'pedido': 1458, 'relajar': 1692, 'uah': 1990, 'recibe': 1668, 'divertido': 644, 'economía': 670, 'excusado': 781, 'prioridad': 1571, 'decidíamos': 550, 'creciente': 466, 'kay': 1086, 'dispares': 641, 'ten': 1915, 'cuidado': 502, 'encuentren': 695, 'saquen': 1776, 'quítate': 1652, 'chisme': 325, 'apta': 101, 'ocultarlo': 1363, 'escuchar': 733, 'darme': 535, 'cochecíto': 357, 'puse': 1609, 'llamó': 1151, 'peletero': 1464, 'roba': 1715, 'descaradamente': 588, 'llamé': 1150, 'imigración': 992, 'intentar': 1021, 'deportaran': 579, 'quedaba': 1621, 'hielo': 953, 'positivo': 1544, 'abracense': 4, 'calla': 259, 'llevando': 1162, 'cabo': 244, 'oídos': 1401, 'perfecto': 1486, 'llevaba': 1159, 'varios': 2017, 'tiros': 1941, 'sabían': 1744, 'fascinante': 799, 'continúe': 430, 'conseguir': 420, 'apellido': 92, 'azúcar': 161, 'mala': 1193, 'pinta': 1509, 'preparas': 1561, 'platos': 1517, 'demás': 575, 'necesidad': 1314, 'contarle': 426, 'sucedido': 1872, 'entendido': 706, 'tac': 1900, 'bell': 186, 'doritos': 652, 'locos': 1175, 'tacos': 1901, 'ofrece': 1376, 'cien': 336, 'grandes': 882, 'quitado': 1646, 'dando': 532, 'salchichas': 1759, 'comer': 372, 'buscando': 232, 'llaves': 1153, 'detuvo': 606, 'lentamente': 1110, 'ocasión': 1360, 'enmendarlo': 701, 'frecuente': 826, 'improbable': 999, 'lexington': 1112, 'tome': 1950, 'batido': 174, 'caña': 308, 'nube': 1350, 'veímos': 2058, 'suéltalas': 1892, 'mitade': 1276, 'transmisión': 1975, 'aprovechar': 98, 'ofertas': 1374, 'alegría': 55, 'volvió': 2084, 'sarcásticos': 1780, 'difícil': 615, 'disfrutamos': 631, 'competitividad': 385, 'compasiva': 379, 'sincero': 1836, 'reventa': 1709, 'consigo': 422, 'suficientes': 1881, 'coge': 358, 'necesites': 1319, 'pilas': 1506, 'nuevas': 1352, 'sacarte': 1751, 'espero': 756, 'misma': 1274, 'contratado': 432, 'permiteme': 1489, 'agradecerte': 45, 'tomar': 1949, 'amamos': 74, 'convertirlo': 438, 'pesadilla': 1495, 'diré': 627, 'formas': 819, 'usando': 2000, 'colocar': 367, 'ultramoderna': 1992, 'sepa': 1802, 'inventó': 1034, 'manera': 1208, 'entrenarlos': 715, 'sube': 1869, 'árbitros': 2106, 'arma': 116, 'robando': 1717, 'descubierto': 590, 'cagando': 254, 'leches': 1108, 'muchísimas': 1295, 'litros': 1135, 'mexicanos': 1255, 'negors': 1325, 'actuante': 33, 'conmocionado': 413, 'pisos': 1512, 'nombre': 1342, 'empeño': 684, 'cuadras': 485, 'cartel': 297, 'uh': 1991, 'iban': 978, 'elegir': 677, 'ponle': 1539, 'infromación': 1011, 'tomándose': 1954, 'profesional': 1576, 'decirte': 556, 'hará': 938, 'cargo': 294, 'veía': 2057, 'veintiquatro': 2027, 'duda': 655, 'salgan': 1762, 'bret': 215, 'llave': 1152, 'analogía': 84, 'hacernos': 923, 'aceptamos': 23, 'gramo': 879, 'grámos': 889, 'pérdida': 1618, 'ofrecerte': 1378, 'gastar': 857, 'jubilación': 1067, 'frivolidades': 830, 'guardarlo': 894, 'mueras': 1297, 'mentiste': 1246, 'dijiste': 620, 'primo': 1569, 'diste': 642, 'daba': 526, 'pego': 1463, 'metería': 1253, 'brazaleta': 212, 'tanzanita': 1905, 'noventa': 1349, 'permiten': 1490, 'jueguen': 1072, 'genios': 864, 'come': 369, 'sólidos': 1898, 'browns': 219, 'listos': 1131, 'batir': 175, 'par': 1421, 'novatos': 1348, 'experiencia': 786, 'lineación': 1129, 'inicial': 1012, 'sabemos': 1736, 'aires': 51, 'rome': 1725, 'esperar': 752, 'interesante': 1026, 'acompaña': 28, 'inventor': 1033, 'vuélvete': 2093, 'canadá': 275, 'ben': 188, 'jhonsson': 1048, 'fondo': 816, 'pusiste': 1610, 'pelígro': 1470, 'ofrecerías': 1379, 'improvisable': 1000, 'exceso': 779, 'andabamos': 87, 'laboratorio': 1096, 'móvil': 1306, 'capaz': 284, 'osíto': 1397, 'north': 1344, 'llevarse': 1165, 'llevamos': 1160, 'enémigo': 720, 'devolvemos': 607, 'calvos': 265, 'damos': 530, 'chúpamela': 329, 'soluciona': 1851, 'hermanita': 946, 'boom': 203, 'vieron': 2067, 'alumnos': 68, 'gustará': 899, 'paciente': 1403, 'cincuenta': 346, 'esperándome': 757, 'olvidémonos': 1389, 'concentrémonos': 400, 'supuestos': 1891, 'horatio': 969, 'venden': 2030, 'proviene': 1588, 'refranes': 1683, 'funcionar': 837}\n"
     ]
    }
   ],
   "source": [
    "print(f\"Vocabulario: {count_vect.vocabulary_}\")"
   ]
  },
  {
   "cell_type": "code",
   "execution_count": 59,
   "metadata": {},
   "outputs": [
    {
     "name": "stdout",
     "output_type": "stream",
     "text": [
      "Representación BoW de 'razón mejor así liberas energía nagativa':  [[0 0 0 ... 0 0 0]]\n"
     ]
    }
   ],
   "source": [
    "print(\"Representación BoW de 'razón mejor así liberas energía nagativa': \", bow_rep[0].toarray())"
   ]
  },
  {
   "cell_type": "code",
   "execution_count": 74,
   "metadata": {},
   "outputs": [
    {
     "name": "stdout",
     "output_type": "stream",
     "text": [
      "El vocabulario tiene 2115 palabras\n"
     ]
    }
   ],
   "source": [
    "num_words = len(count_vect.vocabulary_) #lee la lista\n",
    "print(\"El vocabulario tiene \"  + str(num_words) + \" palabras\")"
   ]
  },
  {
   "cell_type": "code",
   "execution_count": null,
   "metadata": {},
   "outputs": [],
   "source": [
    "#Punto 3\n",
    "#3.1 ¿En qué casos es buena idea tomar en la cuenta la frecuencia de las palabras para la bolsa de palabras?"
   ]
  },
  {
   "cell_type": "code",
   "execution_count": null,
   "metadata": {},
   "outputs": [],
   "source": [
    "\n",
    "#3.2¿Cuándo es una mejor idea usar una bolsa de n-gramas en vez de una bolsa de palabras?"
   ]
  },
  {
   "cell_type": "code",
   "execution_count": null,
   "metadata": {},
   "outputs": [],
   "source": [
    "#BONUS Punto 4:\n",
    "#¿A qué pertenecen los dialogos del primer punto?\n",
    "#Rta: El diálogo pertenece al capítulo 08 de la temporada #16 de SOUTH PARK con el nombre de SARCASMOBOL, \n",
    "#Randy crea un nuevo juego llamado Sarcasmobol queriendo ser sarcastico en medidas de seguridad para los juegos de la escuela, las personas no entienden el punto de Randy y creen que el juego es excelente\n",
    "\n",
    "\"https://www.totalsouthpark.com/2019/08/south-park-16x08-sarcasmobol.html\"\n",
    "\n",
    "#Tambíen hay un trabajo de Mika Hämäläinen con el nombre Reconocimiento automático del sarcasmo - ¡Esto va a funcionar bien!\n",
    "\n"
   ]
  }
 ],
 "metadata": {
  "kernelspec": {
   "display_name": "Python 3",
   "language": "python",
   "name": "python3"
  },
  "language_info": {
   "codemirror_mode": {
    "name": "ipython",
    "version": 3
   },
   "file_extension": ".py",
   "mimetype": "text/x-python",
   "name": "python",
   "nbconvert_exporter": "python",
   "pygments_lexer": "ipython3",
   "version": "3.7.6"
  }
 },
 "nbformat": 4,
 "nbformat_minor": 4
}
